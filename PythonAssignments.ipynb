{
  "nbformat": 4,
  "nbformat_minor": 0,
  "metadata": {
    "colab": {
      "provenance": [],
      "include_colab_link": true
    },
    "kernelspec": {
      "name": "python3",
      "display_name": "Python 3"
    },
    "language_info": {
      "name": "python"
    }
  },
  "cells": [
    {
      "cell_type": "markdown",
      "metadata": {
        "id": "view-in-github",
        "colab_type": "text"
      },
      "source": [
        "<a href=\"https://colab.research.google.com/github/Amodhrayyadav/.well-known/blob/main/PythonAssignments.ipynb\" target=\"_parent\"><img src=\"https://colab.research.google.com/assets/colab-badge.svg\" alt=\"Open In Colab\"/></a>"
      ]
    },
    {
      "cell_type": "markdown",
      "source": [
        "Amodh Ray Yadav || Roll.no: 24BCP365 ||Division: 5"
      ],
      "metadata": {
        "id": "AUMwpwKe-_gk"
      }
    },
    {
      "cell_type": "markdown",
      "source": [],
      "metadata": {
        "id": "e2crXajTwSHg"
      }
    },
    {
      "cell_type": "markdown",
      "source": [
        "1.)\tAdd two numbers."
      ],
      "metadata": {
        "id": "KoUXOeQ7tEQf"
      }
    },
    {
      "cell_type": "code",
      "source": [],
      "metadata": {
        "id": "0z3i6OCPYaUL"
      },
      "execution_count": null,
      "outputs": []
    },
    {
      "cell_type": "markdown",
      "source": [],
      "metadata": {
        "id": "akb7Ep65w-xO"
      }
    },
    {
      "cell_type": "code",
      "source": [
        "a = 8\n",
        "b = 9\n",
        "c = a + b\n",
        "d = b - a\n",
        "e = b/a\n",
        "print(c)\n",
        "print(d)\n",
        "print(e)"
      ],
      "metadata": {
        "colab": {
          "base_uri": "https://localhost:8080/"
        },
        "id": "Idkge6EBx2vC",
        "outputId": "214f9ddf-156c-4b8f-9336-e91a0285374a"
      },
      "execution_count": null,
      "outputs": [
        {
          "output_type": "stream",
          "name": "stdout",
          "text": [
            "17\n",
            "1\n",
            "1.125\n"
          ]
        }
      ]
    },
    {
      "cell_type": "markdown",
      "source": [
        "# New Section"
      ],
      "metadata": {
        "id": "CyqD0AJC-h8f"
      }
    },
    {
      "cell_type": "markdown",
      "source": [
        "2.)Convert hours into minutes."
      ],
      "metadata": {
        "id": "noQZVEMwtJ6K"
      }
    },
    {
      "cell_type": "code",
      "source": [
        "hour = 6\n",
        "minute = 60 * hour\n",
        "print(minute)"
      ],
      "metadata": {
        "colab": {
          "base_uri": "https://localhost:8080/"
        },
        "id": "q_NEBFeqyLet",
        "outputId": "8f9105d7-75a2-4b23-928c-db239e7f9b23"
      },
      "execution_count": null,
      "outputs": [
        {
          "output_type": "stream",
          "name": "stdout",
          "text": [
            "360\n"
          ]
        }
      ]
    },
    {
      "cell_type": "markdown",
      "source": [
        "7.)Convert minutes into hours."
      ],
      "metadata": {
        "id": "C9Xkm-lttSe3"
      }
    },
    {
      "cell_type": "code",
      "source": [
        "minute = 56\n",
        "hour = minute/60\n",
        "print(hour)"
      ],
      "metadata": {
        "colab": {
          "base_uri": "https://localhost:8080/"
        },
        "id": "SAL_PpZqzCEQ",
        "outputId": "d00ccc74-47bb-4e20-999c-981d1d87b6d8"
      },
      "execution_count": null,
      "outputs": [
        {
          "output_type": "stream",
          "name": "stdout",
          "text": [
            "0.9333333333333333\n"
          ]
        }
      ]
    },
    {
      "cell_type": "markdown",
      "source": [
        "8.)Convert dollars into Rs. Where 1 $ = 48 Rs."
      ],
      "metadata": {
        "id": "WVrUkBlTtVvb"
      }
    },
    {
      "cell_type": "code",
      "source": [
        "doller = 89\n",
        "rs = doller * 82\n",
        "print(rs)"
      ],
      "metadata": {
        "colab": {
          "base_uri": "https://localhost:8080/"
        },
        "id": "8L379r8TzNJZ",
        "outputId": "ff2f2c79-ce62-4ffb-b467-25bfa0c3c914"
      },
      "execution_count": null,
      "outputs": [
        {
          "output_type": "stream",
          "name": "stdout",
          "text": [
            "7298\n"
          ]
        }
      ]
    },
    {
      "cell_type": "markdown",
      "source": [
        "9.)Convert Rs. into dollars where 1 $ = 48 Rs."
      ],
      "metadata": {
        "id": "vs5itHnstYvP"
      }
    },
    {
      "cell_type": "code",
      "source": [
        "rs = 980\n",
        "doller = rs/82\n",
        "print(doller)"
      ],
      "metadata": {
        "colab": {
          "base_uri": "https://localhost:8080/"
        },
        "id": "BMUNUIE0zWLd",
        "outputId": "5bd17f17-b8dc-467a-ed8f-87d85ba3c494"
      },
      "execution_count": null,
      "outputs": [
        {
          "output_type": "stream",
          "name": "stdout",
          "text": [
            "11.951219512195122\n"
          ]
        }
      ]
    },
    {
      "cell_type": "markdown",
      "source": [
        "10.)\tConvert dollars into pound where 1 $ = 48 Rs. And 1 pound = 70 Rs."
      ],
      "metadata": {
        "id": "4pm7RXYJtdcw"
      }
    },
    {
      "cell_type": "code",
      "source": [
        "doller = 89\n",
        "rs = doller * 82\n",
        "pound = rs /70\n",
        "print('doller to pound is ',pound)"
      ],
      "metadata": {
        "colab": {
          "base_uri": "https://localhost:8080/"
        },
        "id": "jt93bXZezgOc",
        "outputId": "b750ad84-82b4-48be-cbd7-a7567756f3c0"
      },
      "execution_count": null,
      "outputs": [
        {
          "output_type": "stream",
          "name": "stdout",
          "text": [
            "doller to pound is  104.25714285714285\n"
          ]
        }
      ]
    },
    {
      "cell_type": "markdown",
      "source": [
        "11.)\tConvert grams into kg."
      ],
      "metadata": {
        "id": "s0V7dgomtg4N"
      }
    },
    {
      "cell_type": "code",
      "source": [
        "gram = 900\n",
        "kg = gram /1000\n",
        "print('gm to kg is ',kg)"
      ],
      "metadata": {
        "colab": {
          "base_uri": "https://localhost:8080/"
        },
        "id": "YCvIgC4u0NzY",
        "outputId": "b8cab3d0-f00e-4807-8819-31ac20a6571f"
      },
      "execution_count": null,
      "outputs": [
        {
          "output_type": "stream",
          "name": "stdout",
          "text": [
            "gm to kg is  0.9\n"
          ]
        }
      ]
    },
    {
      "cell_type": "markdown",
      "source": [
        "12.)\tConvert kgs into grams."
      ],
      "metadata": {
        "id": "l3KUJayvtmcA"
      }
    },
    {
      "cell_type": "code",
      "source": [
        "kg = 9\n",
        "gram = kg * 1000\n",
        "print('kg to gram',gram)"
      ],
      "metadata": {
        "colab": {
          "base_uri": "https://localhost:8080/"
        },
        "id": "iCgDNAbh0cKC",
        "outputId": "e68b3a7e-291c-4139-fb7d-1328b1eced83"
      },
      "execution_count": null,
      "outputs": [
        {
          "output_type": "stream",
          "name": "stdout",
          "text": [
            "kg to gram 9000\n"
          ]
        }
      ]
    },
    {
      "cell_type": "markdown",
      "source": [
        "13.)\tConvert bytes into KB, MB and GB."
      ],
      "metadata": {
        "id": "0oKS0c1JtpsN"
      }
    },
    {
      "cell_type": "code",
      "source": [
        "byte = 12355\n",
        "kb = byte / 1024\n",
        "mb = kb /1042\n",
        "gb = mb / 1024\n",
        "print('byte to kb is',kb,'byte to mb is ',mb,'byte to gb is ',gb)"
      ],
      "metadata": {
        "colab": {
          "base_uri": "https://localhost:8080/"
        },
        "id": "LbFjY0h20m5F",
        "outputId": "e985e487-29e2-494b-e3fd-5b23e000bddd"
      },
      "execution_count": null,
      "outputs": [
        {
          "output_type": "stream",
          "name": "stdout",
          "text": [
            "byte to kb is 12.0654296875 byte to mb is  0.011579107185700576 byte to gb is  1.1307721861035719e-05\n"
          ]
        }
      ]
    },
    {
      "cell_type": "markdown",
      "source": [
        "14.)\tConvert celcius into Fahrenheit. F = (9/5 * C) + 32"
      ],
      "metadata": {
        "id": "T0XurBtXtsvM"
      }
    },
    {
      "cell_type": "code",
      "source": [
        "celcius = 98\n",
        "fehrenheit = (9/5*celcius)+32\n",
        "print(fehrenheit)"
      ],
      "metadata": {
        "colab": {
          "base_uri": "https://localhost:8080/"
        },
        "id": "yeTh5FY81hLo",
        "outputId": "f0099494-a60e-4216-b39a-c92e468e1ec5"
      },
      "execution_count": null,
      "outputs": [
        {
          "output_type": "stream",
          "name": "stdout",
          "text": [
            "208.4\n"
          ]
        }
      ]
    },
    {
      "cell_type": "markdown",
      "source": [
        "15.)\tConvert Fahrenheit into celcius. C = 5/9 * (F – 32)"
      ],
      "metadata": {
        "id": "t9Ayg9XEtwHy"
      }
    },
    {
      "cell_type": "code",
      "source": [
        "fehrenheit = 980\n",
        "celcius = (5/9)*(fehrenheit-32)\n",
        "print(celcius)"
      ],
      "metadata": {
        "colab": {
          "base_uri": "https://localhost:8080/"
        },
        "id": "Vil6niGN12IG",
        "outputId": "0127419e-f8fb-4294-f9f0-a981c65fb608"
      },
      "execution_count": null,
      "outputs": [
        {
          "output_type": "stream",
          "name": "stdout",
          "text": [
            "526.6666666666667\n"
          ]
        }
      ]
    },
    {
      "cell_type": "markdown",
      "source": [
        "16.)\tCalculate interest where I = PRN/100."
      ],
      "metadata": {
        "id": "FzGTlU2Htzpu"
      }
    },
    {
      "cell_type": "code",
      "source": [
        "p = 89898\n",
        "t = 9\n",
        "r = 7\n",
        "intrest = (p*t*r)/100\n",
        "print(intrest)"
      ],
      "metadata": {
        "colab": {
          "base_uri": "https://localhost:8080/"
        },
        "id": "N_c0_i8N2FR1",
        "outputId": "21bdb767-8599-4506-e1ce-606c0110a38b"
      },
      "execution_count": null,
      "outputs": [
        {
          "output_type": "stream",
          "name": "stdout",
          "text": [
            "56635.74\n"
          ]
        }
      ]
    },
    {
      "cell_type": "markdown",
      "source": [
        "17.)\tCalculate area & perimeter of a square. A = L^2, P = **4L**"
      ],
      "metadata": {
        "id": "ZR0KTo4et3Og"
      }
    },
    {
      "cell_type": "code",
      "source": [
        "length = 98\n",
        "area = length ** 2\n",
        "perimeter = 4 * length\n",
        "print(area)\n",
        "print(perimeter)"
      ],
      "metadata": {
        "colab": {
          "base_uri": "https://localhost:8080/"
        },
        "id": "yRJgo08c2V8U",
        "outputId": "92ae6f2d-5c8e-44f3-ce64-61a3a7ac297b"
      },
      "execution_count": null,
      "outputs": [
        {
          "output_type": "stream",
          "name": "stdout",
          "text": [
            "9604\n",
            "392\n"
          ]
        }
      ]
    },
    {
      "cell_type": "markdown",
      "source": [
        "18.)\tCalculate area & perimeter of a rectangle. A = L*B, P = 2 (L+B)"
      ],
      "metadata": {
        "id": "WQRH38bvt63C"
      }
    },
    {
      "cell_type": "code",
      "source": [
        "l = 89\n",
        "b = 9\n",
        "a = l * b\n",
        "b = 2*(l+b)\n",
        "print(a)\n",
        "print(b)"
      ],
      "metadata": {
        "colab": {
          "base_uri": "https://localhost:8080/"
        },
        "id": "IgxTWUCY2xLZ",
        "outputId": "c811fbef-74bc-40e2-ab4c-80899c8ac55d"
      },
      "execution_count": null,
      "outputs": [
        {
          "output_type": "stream",
          "name": "stdout",
          "text": [
            "801\n",
            "196\n"
          ]
        }
      ]
    },
    {
      "cell_type": "markdown",
      "source": [
        "19.)\tCalculate area of a circle. A = 22/7 * R * R"
      ],
      "metadata": {
        "id": "XS_VzW7Wt-ZR"
      }
    },
    {
      "cell_type": "code",
      "source": [
        "r = 98\n",
        "a = (22/7)*r*r\n",
        "print(a)"
      ],
      "metadata": {
        "colab": {
          "base_uri": "https://localhost:8080/"
        },
        "id": "hSfukniG3NTO",
        "outputId": "807c01b4-2c0c-4850-c3b5-061ff1bd9a27"
      },
      "execution_count": null,
      "outputs": [
        {
          "output_type": "stream",
          "name": "stdout",
          "text": [
            "30184.0\n"
          ]
        }
      ]
    },
    {
      "cell_type": "markdown",
      "source": [
        "20.)\tCalculate area of a triangle. A = H*L/2"
      ],
      "metadata": {
        "id": "Zc2XMvU8uB3a"
      }
    },
    {
      "cell_type": "code",
      "source": [
        "h = 8\n",
        "l = 9\n",
        "a = (h*l)/2\n",
        "print(a)"
      ],
      "metadata": {
        "colab": {
          "base_uri": "https://localhost:8080/"
        },
        "id": "02i6UO4u3Xx1",
        "outputId": "39496ea8-f6da-4bf0-d6d3-7de4dc53369f"
      },
      "execution_count": null,
      "outputs": [
        {
          "output_type": "stream",
          "name": "stdout",
          "text": [
            "36.0\n"
          ]
        }
      ]
    },
    {
      "cell_type": "markdown",
      "source": [],
      "metadata": {
        "id": "npZ3TNaeuEvA"
      }
    },
    {
      "cell_type": "markdown",
      "source": [
        "23.)\tCalculate average of three subjects along with their total."
      ],
      "metadata": {
        "id": "Rt6aemsDuKI-"
      }
    },
    {
      "cell_type": "code",
      "source": [
        "math = 98\n",
        "phy = 67\n",
        "chem = 65\n",
        "total = math + phy + chem\n",
        "avg = total / 3\n",
        "print(total)\n",
        "print(avg)"
      ],
      "metadata": {
        "colab": {
          "base_uri": "https://localhost:8080/"
        },
        "id": "8D_xBbUh3jVz",
        "outputId": "8e307a1a-e1c5-4909-f80c-7bd60d573672"
      },
      "execution_count": null,
      "outputs": [
        {
          "output_type": "stream",
          "name": "stdout",
          "text": [
            "230\n",
            "76.66666666666667\n"
          ]
        }
      ]
    },
    {
      "cell_type": "markdown",
      "source": [
        "24.)\tSwap two values."
      ],
      "metadata": {
        "id": "19Dw6iLtuIfH"
      }
    },
    {
      "cell_type": "code",
      "source": [
        "a = 6\n",
        "b = 9\n",
        "a = a + b\n",
        "b = a - b\n",
        "a = a - b\n",
        "print(a,b)"
      ],
      "metadata": {
        "colab": {
          "base_uri": "https://localhost:8080/"
        },
        "id": "C40qfwp34AIE",
        "outputId": "10ba82ae-c6db-4ec1-d620-f76096df628b"
      },
      "execution_count": null,
      "outputs": [
        {
          "output_type": "stream",
          "name": "stdout",
          "text": [
            "9 6\n"
          ]
        }
      ]
    },
    {
      "cell_type": "markdown",
      "source": [
        "22.)\tCalculate net sales where net sales = gross sales – 10% discount of gross sales."
      ],
      "metadata": {
        "id": "W2l1FCMfuPt5"
      }
    },
    {
      "cell_type": "code",
      "source": [
        "grosalary = 89000\n",
        "netsalery = grosalary - (grosalary*10)/100\n",
        "print(netsalery)\n",
        "\n"
      ],
      "metadata": {
        "id": "r4eq32qr4vxE",
        "colab": {
          "base_uri": "https://localhost:8080/"
        },
        "outputId": "8960d809-eb4b-4c02-c93a-6d1fae91dba1"
      },
      "execution_count": null,
      "outputs": [
        {
          "output_type": "stream",
          "name": "stdout",
          "text": [
            "80100.0\n"
          ]
        }
      ]
    },
    {
      "cell_type": "markdown",
      "source": [
        "21.)\tCalculate net salary\n",
        "where net salary = gross salary + allowance – deduction.\n",
        "Allowances are 10% while deductions are 3% of gross salary.\n"
      ],
      "metadata": {
        "id": "G74to8g0uUQd"
      }
    },
    {
      "cell_type": "code",
      "source": [
        "grossalary = 9000\n",
        "allow = (grossalary*10)/100\n",
        "deduc = (grossalary*3)/100\n",
        "netsalary = grossalary + allow -deduc\n",
        "print(netsalary)"
      ],
      "metadata": {
        "colab": {
          "base_uri": "https://localhost:8080/"
        },
        "id": "TlD6dk8YBvhb",
        "outputId": "60693523-c9cc-4c75-aa10-f99c8d1a6e3d"
      },
      "execution_count": null,
      "outputs": [
        {
          "output_type": "stream",
          "name": "stdout",
          "text": [
            "9630.0\n"
          ]
        }
      ]
    },
    {
      "cell_type": "markdown",
      "source": [
        "If-else conditionals\n",
        "1.)Print largest and smallest values out of two."
      ],
      "metadata": {
        "id": "UhkMg8U9v1Kg"
      }
    },
    {
      "cell_type": "markdown",
      "source": [],
      "metadata": {
        "id": "hBDXjCDlv_pc"
      }
    },
    {
      "cell_type": "code",
      "source": [
        "num1= 23\n",
        "num2 = 45\n",
        "if (num1>num2):\n",
        "  print(\"Num1 is largest values\")\n",
        "else:\n",
        "  print(\"num1 is smallest\")\n",
        "\n",
        "if(num2>num1):\n",
        "  print(\"num2 is largest values\")\n",
        "else:\n",
        "  print(\"num2 is smallest\")\n"
      ],
      "metadata": {
        "colab": {
          "base_uri": "https://localhost:8080/"
        },
        "id": "jjRt6jM_v980",
        "outputId": "87cfa240-eb6b-4e8d-d7a2-a542d375c661"
      },
      "execution_count": null,
      "outputs": [
        {
          "output_type": "stream",
          "name": "stdout",
          "text": [
            "num1 is smallest\n",
            "num2 is largest values\n"
          ]
        }
      ]
    },
    {
      "cell_type": "markdown",
      "source": [
        "2.)\tPrint largest and smallest values out of three."
      ],
      "metadata": {
        "id": "ySlvumi5wrAQ"
      }
    },
    {
      "cell_type": "code",
      "source": [
        "num1 = 45\n",
        "num2 = 46\n",
        "num3 = 89\n",
        "if(num1>num2 and num1 >num3):\n",
        "  print(\"num1 is largest values\")\n",
        "else:\n",
        "  print(\"num1 is smallest\")\n",
        "if(num2>num3 and num2>num1):\n",
        "    print(\"num2 is largest values\")\n",
        "else:\n",
        "  print(\"num2 is smallest\")\n",
        "if(num3>num1 and num3>num2):\n",
        "  print(\"num3 is largest\")\n",
        "else:\n",
        "  print(\"num3 is smallest\")\n"
      ],
      "metadata": {
        "colab": {
          "base_uri": "https://localhost:8080/"
        },
        "id": "IJ045bopwv1D",
        "outputId": "a3d51d98-eaed-4f69-d0bf-82bf81e1442b"
      },
      "execution_count": null,
      "outputs": [
        {
          "output_type": "stream",
          "name": "stdout",
          "text": [
            "num1 is smallest\n",
            "num2 is smallest\n",
            "num3 is largest\n"
          ]
        }
      ]
    },
    {
      "cell_type": "code",
      "source": [],
      "metadata": {
        "id": "rAvNdPF1w9sp"
      },
      "execution_count": null,
      "outputs": []
    },
    {
      "cell_type": "markdown",
      "source": [
        "3.)\tCheck whether a given number is odd or even"
      ],
      "metadata": {
        "id": "_6lnnpX5zK8y"
      }
    },
    {
      "cell_type": "code",
      "source": [
        "num = 3\n",
        "if(num%2==0):\n",
        "  print(\"Even\")\n",
        "else:\n",
        "  print(\"odd\")"
      ],
      "metadata": {
        "colab": {
          "base_uri": "https://localhost:8080/"
        },
        "id": "vA4afOYAzR-L",
        "outputId": "5cd4489b-8aad-4124-ef2e-bbd9d692d41e"
      },
      "execution_count": null,
      "outputs": [
        {
          "output_type": "stream",
          "name": "stdout",
          "text": [
            "odd\n"
          ]
        }
      ]
    },
    {
      "cell_type": "markdown",
      "source": [
        "4.)\tCheck whether a given number is divisible by 10 or not."
      ],
      "metadata": {
        "id": "Z1asZ4jWYbrz"
      }
    },
    {
      "cell_type": "code",
      "source": [
        "num = 45\n",
        "if(num%10==0):\n",
        "  print(\"it is divisiable by 10\")\n",
        "\n",
        "else:\n",
        "  print(\"not it is not divisiable by 10\")"
      ],
      "metadata": {
        "colab": {
          "base_uri": "https://localhost:8080/"
        },
        "id": "rb68f_saYh4d",
        "outputId": "a798f2b3-5353-420c-fca8-de3a951e2dd8"
      },
      "execution_count": null,
      "outputs": [
        {
          "output_type": "stream",
          "name": "stdout",
          "text": [
            "not it is not divisiable by 10\n"
          ]
        }
      ]
    },
    {
      "cell_type": "markdown",
      "source": [
        "5.)\tAccept age of a person. If age is less than 18, print minor otherwise Major."
      ],
      "metadata": {
        "id": "R58ceyLeY41y"
      }
    },
    {
      "cell_type": "code",
      "source": [
        "age = int(input(\"Enter the age of person:\"))\n",
        "if(age<18):\n",
        "  print(\"minor\")\n",
        "\n",
        "else:\n",
        "  print(\"major\")"
      ],
      "metadata": {
        "colab": {
          "base_uri": "https://localhost:8080/"
        },
        "id": "8zUKnQe-Y4Wu",
        "outputId": "47568e27-69ba-4901-db15-e212fbfa238b"
      },
      "execution_count": null,
      "outputs": [
        {
          "output_type": "stream",
          "name": "stdout",
          "text": [
            "Enter the age of person:12\n",
            "minor\n"
          ]
        }
      ]
    },
    {
      "cell_type": "markdown",
      "source": [
        "6.)\tAccept a number from the user. And print number of digits in it."
      ],
      "metadata": {
        "id": "l-QJpczJZWi_"
      }
    },
    {
      "cell_type": "code",
      "source": [
        "num = input(\"Enter the numbers:\")\n",
        "print(len(num))"
      ],
      "metadata": {
        "colab": {
          "base_uri": "https://localhost:8080/"
        },
        "id": "nMyaQui6ZcaF",
        "outputId": "5d1ced37-f9aa-4c7a-b7e7-57a880fce691"
      },
      "execution_count": null,
      "outputs": [
        {
          "output_type": "stream",
          "name": "stdout",
          "text": [
            "Enter the numbers:1234\n",
            "4\n"
          ]
        }
      ]
    },
    {
      "cell_type": "markdown",
      "source": [
        "7.)\tAccept a year value from the user. Check whether it is a leap year or not."
      ],
      "metadata": {
        "id": "LdqstuazZpAl"
      }
    },
    {
      "cell_type": "code",
      "source": [
        "year = int(input(\"Enter the year:\"))\n",
        "if( year % 4 == 0 and ( year % 400 == 0 or year % 100 != 0 )):\n",
        "  print(\"it is a leap year\")\n",
        "else:\n",
        "  print(\"it is not leap year\")"
      ],
      "metadata": {
        "colab": {
          "base_uri": "https://localhost:8080/"
        },
        "id": "pwCtWlV3Zvs0",
        "outputId": "61b1e516-37fc-466f-8582-785e1cf565dc"
      },
      "execution_count": null,
      "outputs": [
        {
          "output_type": "stream",
          "name": "stdout",
          "text": [
            "Enter the year:2025\n",
            "it is not leap year\n"
          ]
        }
      ]
    },
    {
      "cell_type": "markdown",
      "source": [
        "8.)\tCheck whether a triangle is valid or not, when the three angles of the triangle are entered through the keyboard. A triangle is valid if te sum of all the three angles is equal to 180 degrees.\n",
        "\n"
      ],
      "metadata": {
        "id": "4NYj2bwqbvND"
      }
    },
    {
      "cell_type": "code",
      "source": [
        "side1 = int(input(\"Enter the 1st side:\"))\n",
        "side2 = int(input(\"Enter the 2nd side:\"))\n",
        "side3  = int(input(\"Enter the 3rd side:\"))\n",
        "if(side1 + side2 +side3 == 180):\n",
        "  print(\"triange is valid\")\n",
        "else:\n",
        "  print(\"triange is invalid\")\n",
        "\n",
        "\n",
        "\n"
      ],
      "metadata": {
        "colab": {
          "base_uri": "https://localhost:8080/"
        },
        "id": "9SSMSRkjb2_K",
        "outputId": "c2e790be-c1ae-4c6f-a2c0-8c8fcba8e163"
      },
      "execution_count": null,
      "outputs": [
        {
          "output_type": "stream",
          "name": "stdout",
          "text": [
            "Enter the 1st side:60\n",
            "Enter the 2nd side:60\n",
            "Enter the 3rd side:60\n",
            "triange is valid\n"
          ]
        }
      ]
    },
    {
      "cell_type": "markdown",
      "source": [
        "9.)\tPrint absolute value of a given number."
      ],
      "metadata": {
        "id": "FIOsDrtdcjME"
      }
    },
    {
      "cell_type": "code",
      "source": [
        "num  = -9\n",
        "print(abs(num))\n"
      ],
      "metadata": {
        "colab": {
          "base_uri": "https://localhost:8080/"
        },
        "id": "cSRlSL04ctYS",
        "outputId": "88f4157a-72c8-4b66-8cc7-ff3ac50481f0"
      },
      "execution_count": null,
      "outputs": [
        {
          "output_type": "stream",
          "name": "stdout",
          "text": [
            "9\n"
          ]
        }
      ]
    },
    {
      "cell_type": "markdown",
      "source": [
        "10.)\tGiven the length and breadth of a rectangle, write a program to find whether theare of the rectangle is greater than its perimeter."
      ],
      "metadata": {
        "id": "FCzqvknQdm0R"
      }
    },
    {
      "cell_type": "code",
      "source": [
        "len = 89\n",
        "breath = 8\n",
        "area = len * breath\n",
        "perimeter = 2*(len + breath)\n",
        "if(area > perimeter):\n",
        "  print('area is greater than perimeter')\n",
        "else:\n",
        "  print('area is smaller than perimeter')\n"
      ],
      "metadata": {
        "colab": {
          "base_uri": "https://localhost:8080/"
        },
        "id": "jcKfBKxfdsJ4",
        "outputId": "b707192e-99f8-42bf-8363-b9aafae0a2e6"
      },
      "execution_count": null,
      "outputs": [
        {
          "output_type": "stream",
          "name": "stdout",
          "text": [
            "area is greater than perimeter\n"
          ]
        }
      ]
    },
    {
      "cell_type": "markdown",
      "source": [
        "11.)\tGiven three points (x1,y1), (x2,y2) and (x3,y3), check if all the three points fall on one straight line"
      ],
      "metadata": {
        "id": "h4E4kfkKe01y"
      }
    },
    {
      "cell_type": "code",
      "source": [
        "x1 = 5\n",
        "x2 = 8\n",
        "x3 =9\n",
        "y1 =3\n",
        "y2 = 4\n",
        "y3 =7\n",
        "a = (x1*(y2-y3))+(x2*(y3-y1))+(x3*(y1-y2))\n",
        "if (a == 0):\n",
        "  print('all the points fall on one stright line')\n",
        "else:\n",
        "  print(\"all the points dont fall on one stright line\")\n",
        "\n"
      ],
      "metadata": {
        "colab": {
          "base_uri": "https://localhost:8080/"
        },
        "id": "JLC9xB7re6br",
        "outputId": "ce20ade0-0d58-4e84-82a0-b1adfc9bd9a1"
      },
      "execution_count": null,
      "outputs": [
        {
          "output_type": "stream",
          "name": "stdout",
          "text": [
            "all the points dont fall on one stright line\n"
          ]
        }
      ]
    },
    {
      "cell_type": "markdown",
      "source": [
        "12.)\tGiven the coordinates (x,y) of center of a circle and its radius, determine whether a point lies inside the circle, on the circle or outside the circle. (Hint: Use sqrt( ), pow( ) )"
      ],
      "metadata": {
        "id": "VsEOuzhcgapl"
      }
    },
    {
      "cell_type": "code",
      "source": [
        "import math\n",
        "\n",
        "\n",
        "circle_x = 0\n",
        "circle_y = 0\n",
        "radius = 5\n",
        "point_x = 3\n",
        "point_y = 4\n",
        "\n",
        "\n",
        "distance = math.sqrt(math.pow(point_x - circle_x, 2) + math.pow(point_y - circle_y, 2))\n",
        "\n",
        "\n",
        "if distance < radius:\n",
        "    print(f\"The point ({point_x}, {point_y}) is inside the circle.\")\n",
        "elif distance == radius:\n",
        "    print(f\"The point ({point_x}, {point_y}) is on the circle.\")\n",
        "else:\n",
        "    print(f\"The point ({point_x}, {point_y}) is outside the circle.\")\n"
      ],
      "metadata": {
        "colab": {
          "base_uri": "https://localhost:8080/"
        },
        "id": "syH8s71wgiW3",
        "outputId": "4c05fb67-5797-4c02-f7b4-32610be5e515"
      },
      "execution_count": null,
      "outputs": [
        {
          "output_type": "stream",
          "name": "stdout",
          "text": [
            "The point (3, 4) is on the circle.\n"
          ]
        }
      ]
    },
    {
      "cell_type": "markdown",
      "source": [
        "13.)\tConvert number 0 to 19 to its equivalent words. E.g. 0  zero, 19nineteen."
      ],
      "metadata": {
        "id": "kvFGuVfPhXwx"
      }
    },
    {
      "cell_type": "code",
      "source": [
        "\n",
        "number = 0\n",
        "\n",
        "number_words = [\n",
        "    \"zero\", \"one\", \"two\", \"three\", \"four\", \"five\", \"six\", \"seven\", \"eight\", \"nine\",\n",
        "    \"ten\", \"eleven\", \"twelve\", \"thirteen\", \"fourteen\", \"fifteen\", \"sixteen\",\n",
        "    \"seventeen\", \"eighteen\", \"nineteen\"\n",
        "]\n",
        "\n",
        "\n",
        "if 0 <= number <= 19:\n",
        "    print(f\"The number {number} is written as '{number_words[number]}'.\")\n",
        "else:\n",
        "    print(\"Number is out of range (0-19).\")\n"
      ],
      "metadata": {
        "colab": {
          "base_uri": "https://localhost:8080/"
        },
        "id": "7cNbEuNTheqG",
        "outputId": "97d06c10-c39a-4f83-f2c1-71021b5b9687"
      },
      "execution_count": null,
      "outputs": [
        {
          "output_type": "stream",
          "name": "stdout",
          "text": [
            "The number 0 is written as 'zero'.\n"
          ]
        }
      ]
    },
    {
      "cell_type": "markdown",
      "source": [
        "14.)\tAccept marks of three subjects. Print total and average along with whether a candidate has passed or fail. If student secures <= 39 marks in any subject, consider him as fail. Also assigned a subject wise grade based on the following table:\n",
        "**bold text**\n"
      ],
      "metadata": {
        "id": "yJo00hPgiFkI"
      }
    },
    {
      "cell_type": "code",
      "source": [
        "sub1 = int(input(\"Enter the maths mark:\"))\n",
        "sub2 = int(input(\"Enter the chemistry mark:\"))\n",
        "sub3 = int(input(\"Enter the physics mark:\"))\n",
        "sum = sub1+sub2+sub3 /3\n",
        "if(sub1 <= 39 or sub2 <=39 or sub3<=39):\n",
        "  print(\"Fail\")\n",
        "\n",
        "elif(sum>= 40 and sum <=44 ):\n",
        "  print(\"P\")\n",
        "\n",
        "elif(sum>= 45 and sum <=49 ):\n",
        "  print(\"C\")\n",
        "\n",
        "elif(sum>= 50 and sum <=54 ):\n",
        "  print(\"B\")\n",
        "\n",
        "elif(sum>= 55 and sum <=59 ):\n",
        "  print(\"B+\")\n",
        "\n",
        "elif(sum>= 60 and sum <= 69 ):\n",
        "  print(\"A\")\n",
        "\n",
        "elif(sum>= 70 and sum <= 79):\n",
        "  print(\"A+\")\n",
        "\n",
        "elif(sum>= 80 and sum <=100 ):\n",
        "  print(\"O\")\n",
        "\n",
        "else:\n",
        "  print(\"good\")\n"
      ],
      "metadata": {
        "colab": {
          "base_uri": "https://localhost:8080/"
        },
        "id": "vzjCSSNtiLXZ",
        "outputId": "62147279-cf23-467b-dc7a-7b3228b5d928"
      },
      "execution_count": null,
      "outputs": [
        {
          "output_type": "stream",
          "name": "stdout",
          "text": [
            "Enter the maths mark:98\n",
            "Enter the chemistry mark:78\n",
            "Enter the physics mark:65\n",
            "good\n"
          ]
        }
      ]
    },
    {
      "cell_type": "markdown",
      "source": [],
      "metadata": {
        "id": "e4sN9V-yX8gV"
      }
    },
    {
      "cell_type": "code",
      "source": [],
      "metadata": {
        "id": "4MoSX2YxX-B-"
      },
      "execution_count": null,
      "outputs": []
    },
    {
      "cell_type": "code",
      "source": [],
      "metadata": {
        "id": "d_MmTq4Dkwqo"
      },
      "execution_count": null,
      "outputs": []
    },
    {
      "cell_type": "code",
      "source": [],
      "metadata": {
        "id": "WWVYJnxmW-0F"
      },
      "execution_count": null,
      "outputs": []
    },
    {
      "cell_type": "markdown",
      "source": [],
      "metadata": {
        "id": "WMnEud3KXCAl"
      }
    }
  ]
}