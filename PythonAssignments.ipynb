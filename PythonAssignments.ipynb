{
  "nbformat": 4,
  "nbformat_minor": 0,
  "metadata": {
    "colab": {
      "provenance": [],
      "include_colab_link": true
    },
    "kernelspec": {
      "name": "python3",
      "display_name": "Python 3"
    },
    "language_info": {
      "name": "python"
    }
  },
  "cells": [
    {
      "cell_type": "markdown",
      "metadata": {
        "id": "view-in-github",
        "colab_type": "text"
      },
      "source": [
        "<a href=\"https://colab.research.google.com/github/Amodhrayyadav/.well-known/blob/main/PythonAssignments.ipynb\" target=\"_parent\"><img src=\"https://colab.research.google.com/assets/colab-badge.svg\" alt=\"Open In Colab\"/></a>"
      ]
    },
    {
      "cell_type": "markdown",
      "source": [
        "Amodh Ray Yadav || Roll.no: 24BCP365 ||Division: 5"
      ],
      "metadata": {
        "id": "AUMwpwKe-_gk"
      }
    },
    {
      "cell_type": "markdown",
      "source": [],
      "metadata": {
        "id": "e2crXajTwSHg"
      }
    },
    {
      "cell_type": "markdown",
      "source": [
        "Lab-1st\n",
        "1.)\tAdd two numbers,subtract,multiply and divide"
      ],
      "metadata": {
        "id": "KoUXOeQ7tEQf"
      }
    },
    {
      "cell_type": "code",
      "source": [
        "a = 9\n",
        "b = 89\n",
        "print(9+89)\n",
        "print(a-b)\n",
        "print(a*b)\n",
        "print(a/b)"
      ],
      "metadata": {
        "colab": {
          "base_uri": "https://localhost:8080/"
        },
        "id": "HX4WdHiwmMjd",
        "outputId": "36177114-2128-4e76-d816-459292f7b05a"
      },
      "execution_count": null,
      "outputs": [
        {
          "output_type": "stream",
          "name": "stdout",
          "text": [
            "98\n",
            "-80\n",
            "801\n",
            "0.10112359550561797\n"
          ]
        }
      ]
    },
    {
      "cell_type": "markdown",
      "source": [
        "# New Section"
      ],
      "metadata": {
        "id": "CyqD0AJC-h8f"
      }
    },
    {
      "cell_type": "markdown",
      "source": [
        "6.)Convert hours into minutes."
      ],
      "metadata": {
        "id": "noQZVEMwtJ6K"
      }
    },
    {
      "cell_type": "code",
      "source": [
        "hour = 6\n",
        "minute = 60 * hour\n",
        "print(minute)"
      ],
      "metadata": {
        "colab": {
          "base_uri": "https://localhost:8080/"
        },
        "id": "q_NEBFeqyLet",
        "outputId": "8f9105d7-75a2-4b23-928c-db239e7f9b23"
      },
      "execution_count": null,
      "outputs": [
        {
          "output_type": "stream",
          "name": "stdout",
          "text": [
            "360\n"
          ]
        }
      ]
    },
    {
      "cell_type": "markdown",
      "source": [
        "7.)Convert minutes into hours."
      ],
      "metadata": {
        "id": "C9Xkm-lttSe3"
      }
    },
    {
      "cell_type": "code",
      "source": [
        "minute = 56\n",
        "hour = minute/60\n",
        "print(hour)"
      ],
      "metadata": {
        "colab": {
          "base_uri": "https://localhost:8080/"
        },
        "id": "SAL_PpZqzCEQ",
        "outputId": "d00ccc74-47bb-4e20-999c-981d1d87b6d8"
      },
      "execution_count": null,
      "outputs": [
        {
          "output_type": "stream",
          "name": "stdout",
          "text": [
            "0.9333333333333333\n"
          ]
        }
      ]
    },
    {
      "cell_type": "markdown",
      "source": [
        "8.)Convert dollars into Rs. Where 1 $ = 48 Rs."
      ],
      "metadata": {
        "id": "WVrUkBlTtVvb"
      }
    },
    {
      "cell_type": "code",
      "source": [
        "doller = 89\n",
        "rs = doller * 82\n",
        "print(rs)"
      ],
      "metadata": {
        "colab": {
          "base_uri": "https://localhost:8080/"
        },
        "id": "8L379r8TzNJZ",
        "outputId": "ff2f2c79-ce62-4ffb-b467-25bfa0c3c914"
      },
      "execution_count": null,
      "outputs": [
        {
          "output_type": "stream",
          "name": "stdout",
          "text": [
            "7298\n"
          ]
        }
      ]
    },
    {
      "cell_type": "markdown",
      "source": [
        "9.)Convert Rs. into dollars where 1 $ = 48 Rs."
      ],
      "metadata": {
        "id": "vs5itHnstYvP"
      }
    },
    {
      "cell_type": "code",
      "source": [
        "rs = 980\n",
        "doller = rs/82\n",
        "print(doller)"
      ],
      "metadata": {
        "colab": {
          "base_uri": "https://localhost:8080/"
        },
        "id": "BMUNUIE0zWLd",
        "outputId": "5bd17f17-b8dc-467a-ed8f-87d85ba3c494"
      },
      "execution_count": null,
      "outputs": [
        {
          "output_type": "stream",
          "name": "stdout",
          "text": [
            "11.951219512195122\n"
          ]
        }
      ]
    },
    {
      "cell_type": "markdown",
      "source": [
        "10.)\tConvert dollars into pound where 1 $ = 48 Rs. And 1 pound = 70 Rs."
      ],
      "metadata": {
        "id": "4pm7RXYJtdcw"
      }
    },
    {
      "cell_type": "code",
      "source": [
        "doller = 89\n",
        "rs = doller * 82\n",
        "pound = rs /70\n",
        "print('doller to pound is ',pound)"
      ],
      "metadata": {
        "colab": {
          "base_uri": "https://localhost:8080/"
        },
        "id": "jt93bXZezgOc",
        "outputId": "b750ad84-82b4-48be-cbd7-a7567756f3c0"
      },
      "execution_count": null,
      "outputs": [
        {
          "output_type": "stream",
          "name": "stdout",
          "text": [
            "doller to pound is  104.25714285714285\n"
          ]
        }
      ]
    },
    {
      "cell_type": "markdown",
      "source": [
        "11.)\tConvert grams into kg."
      ],
      "metadata": {
        "id": "s0V7dgomtg4N"
      }
    },
    {
      "cell_type": "code",
      "source": [
        "gram = 900\n",
        "kg = gram /1000\n",
        "print('gm to kg is ',kg)"
      ],
      "metadata": {
        "colab": {
          "base_uri": "https://localhost:8080/"
        },
        "id": "YCvIgC4u0NzY",
        "outputId": "b8cab3d0-f00e-4807-8819-31ac20a6571f"
      },
      "execution_count": null,
      "outputs": [
        {
          "output_type": "stream",
          "name": "stdout",
          "text": [
            "gm to kg is  0.9\n"
          ]
        }
      ]
    },
    {
      "cell_type": "markdown",
      "source": [
        "12.)\tConvert kgs into grams."
      ],
      "metadata": {
        "id": "l3KUJayvtmcA"
      }
    },
    {
      "cell_type": "code",
      "source": [
        "kg = 9\n",
        "gram = kg * 1000\n",
        "print('kg to gram',gram)"
      ],
      "metadata": {
        "colab": {
          "base_uri": "https://localhost:8080/"
        },
        "id": "iCgDNAbh0cKC",
        "outputId": "e68b3a7e-291c-4139-fb7d-1328b1eced83"
      },
      "execution_count": null,
      "outputs": [
        {
          "output_type": "stream",
          "name": "stdout",
          "text": [
            "kg to gram 9000\n"
          ]
        }
      ]
    },
    {
      "cell_type": "markdown",
      "source": [
        "13.)\tConvert bytes into KB, MB and GB."
      ],
      "metadata": {
        "id": "0oKS0c1JtpsN"
      }
    },
    {
      "cell_type": "code",
      "source": [
        "byte = 12355\n",
        "kb = byte / 1024\n",
        "mb = kb /1042\n",
        "gb = mb / 1024\n",
        "print('byte to kb is',kb,'byte to mb is ',mb,'byte to gb is ',gb)"
      ],
      "metadata": {
        "colab": {
          "base_uri": "https://localhost:8080/"
        },
        "id": "LbFjY0h20m5F",
        "outputId": "e985e487-29e2-494b-e3fd-5b23e000bddd"
      },
      "execution_count": null,
      "outputs": [
        {
          "output_type": "stream",
          "name": "stdout",
          "text": [
            "byte to kb is 12.0654296875 byte to mb is  0.011579107185700576 byte to gb is  1.1307721861035719e-05\n"
          ]
        }
      ]
    },
    {
      "cell_type": "markdown",
      "source": [
        "14.)\tConvert celcius into Fahrenheit. F = (9/5 * C) + 32"
      ],
      "metadata": {
        "id": "T0XurBtXtsvM"
      }
    },
    {
      "cell_type": "code",
      "source": [
        "celcius = 98\n",
        "fehrenheit = (9/5*celcius)+32\n",
        "print(fehrenheit)"
      ],
      "metadata": {
        "colab": {
          "base_uri": "https://localhost:8080/"
        },
        "id": "yeTh5FY81hLo",
        "outputId": "f0099494-a60e-4216-b39a-c92e468e1ec5"
      },
      "execution_count": null,
      "outputs": [
        {
          "output_type": "stream",
          "name": "stdout",
          "text": [
            "208.4\n"
          ]
        }
      ]
    },
    {
      "cell_type": "markdown",
      "source": [
        "15.)\tConvert Fahrenheit into celcius. C = 5/9 * (F – 32)"
      ],
      "metadata": {
        "id": "t9Ayg9XEtwHy"
      }
    },
    {
      "cell_type": "code",
      "source": [
        "fehrenheit = 980\n",
        "celcius = (5/9)*(fehrenheit-32)\n",
        "print(celcius)"
      ],
      "metadata": {
        "colab": {
          "base_uri": "https://localhost:8080/"
        },
        "id": "Vil6niGN12IG",
        "outputId": "0127419e-f8fb-4294-f9f0-a981c65fb608"
      },
      "execution_count": null,
      "outputs": [
        {
          "output_type": "stream",
          "name": "stdout",
          "text": [
            "526.6666666666667\n"
          ]
        }
      ]
    },
    {
      "cell_type": "markdown",
      "source": [
        "16.)\tCalculate interest where I = PRN/100."
      ],
      "metadata": {
        "id": "FzGTlU2Htzpu"
      }
    },
    {
      "cell_type": "code",
      "source": [
        "p = 89898\n",
        "t = 9\n",
        "r = 7\n",
        "intrest = (p*t*r)/100\n",
        "print(intrest)"
      ],
      "metadata": {
        "colab": {
          "base_uri": "https://localhost:8080/"
        },
        "id": "N_c0_i8N2FR1",
        "outputId": "21bdb767-8599-4506-e1ce-606c0110a38b"
      },
      "execution_count": null,
      "outputs": [
        {
          "output_type": "stream",
          "name": "stdout",
          "text": [
            "56635.74\n"
          ]
        }
      ]
    },
    {
      "cell_type": "markdown",
      "source": [
        "17.)\tCalculate area & perimeter of a square. A = L^2, P = **4L**"
      ],
      "metadata": {
        "id": "ZR0KTo4et3Og"
      }
    },
    {
      "cell_type": "code",
      "source": [
        "length = 98\n",
        "area = length ** 2\n",
        "perimeter = 4 * length\n",
        "print(area)\n",
        "print(perimeter)"
      ],
      "metadata": {
        "colab": {
          "base_uri": "https://localhost:8080/"
        },
        "id": "yRJgo08c2V8U",
        "outputId": "92ae6f2d-5c8e-44f3-ce64-61a3a7ac297b"
      },
      "execution_count": null,
      "outputs": [
        {
          "output_type": "stream",
          "name": "stdout",
          "text": [
            "9604\n",
            "392\n"
          ]
        }
      ]
    },
    {
      "cell_type": "markdown",
      "source": [
        "18.)\tCalculate area & perimeter of a rectangle. A = L*B, P = 2 (L+B)"
      ],
      "metadata": {
        "id": "WQRH38bvt63C"
      }
    },
    {
      "cell_type": "code",
      "source": [
        "l = 89\n",
        "b = 9\n",
        "a = l * b\n",
        "b = 2*(l+b)\n",
        "print(a)\n",
        "print(b)"
      ],
      "metadata": {
        "colab": {
          "base_uri": "https://localhost:8080/"
        },
        "id": "IgxTWUCY2xLZ",
        "outputId": "c811fbef-74bc-40e2-ab4c-80899c8ac55d"
      },
      "execution_count": null,
      "outputs": [
        {
          "output_type": "stream",
          "name": "stdout",
          "text": [
            "801\n",
            "196\n"
          ]
        }
      ]
    },
    {
      "cell_type": "markdown",
      "source": [
        "19.)\tCalculate area of a circle. A = 22/7 * R * R"
      ],
      "metadata": {
        "id": "XS_VzW7Wt-ZR"
      }
    },
    {
      "cell_type": "code",
      "source": [
        "r = 98\n",
        "a = (22/7)*r*r\n",
        "print(a)"
      ],
      "metadata": {
        "colab": {
          "base_uri": "https://localhost:8080/"
        },
        "id": "hSfukniG3NTO",
        "outputId": "807c01b4-2c0c-4850-c3b5-061ff1bd9a27"
      },
      "execution_count": null,
      "outputs": [
        {
          "output_type": "stream",
          "name": "stdout",
          "text": [
            "30184.0\n"
          ]
        }
      ]
    },
    {
      "cell_type": "markdown",
      "source": [
        "20.)\tCalculate area of a triangle. A = H*L/2"
      ],
      "metadata": {
        "id": "Zc2XMvU8uB3a"
      }
    },
    {
      "cell_type": "code",
      "source": [
        "h = 8\n",
        "l = 9\n",
        "a = (h*l)/2\n",
        "print(a)"
      ],
      "metadata": {
        "colab": {
          "base_uri": "https://localhost:8080/"
        },
        "id": "02i6UO4u3Xx1",
        "outputId": "39496ea8-f6da-4bf0-d6d3-7de4dc53369f"
      },
      "execution_count": null,
      "outputs": [
        {
          "output_type": "stream",
          "name": "stdout",
          "text": [
            "36.0\n"
          ]
        }
      ]
    },
    {
      "cell_type": "markdown",
      "source": [],
      "metadata": {
        "id": "npZ3TNaeuEvA"
      }
    },
    {
      "cell_type": "markdown",
      "source": [
        "23.)\tCalculate average of three subjects along with their total."
      ],
      "metadata": {
        "id": "Rt6aemsDuKI-"
      }
    },
    {
      "cell_type": "code",
      "source": [
        "math = 98\n",
        "phy = 67\n",
        "chem = 65\n",
        "total = math + phy + chem\n",
        "avg = total / 3\n",
        "print(total)\n",
        "print(avg)"
      ],
      "metadata": {
        "colab": {
          "base_uri": "https://localhost:8080/"
        },
        "id": "8D_xBbUh3jVz",
        "outputId": "8e307a1a-e1c5-4909-f80c-7bd60d573672"
      },
      "execution_count": null,
      "outputs": [
        {
          "output_type": "stream",
          "name": "stdout",
          "text": [
            "230\n",
            "76.66666666666667\n"
          ]
        }
      ]
    },
    {
      "cell_type": "markdown",
      "source": [
        "24.)\tSwap two values."
      ],
      "metadata": {
        "id": "19Dw6iLtuIfH"
      }
    },
    {
      "cell_type": "code",
      "source": [
        "a = 6\n",
        "b = 9\n",
        "a = a + b\n",
        "b = a - b\n",
        "a = a - b\n",
        "print(a,b)"
      ],
      "metadata": {
        "colab": {
          "base_uri": "https://localhost:8080/"
        },
        "id": "C40qfwp34AIE",
        "outputId": "10ba82ae-c6db-4ec1-d620-f76096df628b"
      },
      "execution_count": null,
      "outputs": [
        {
          "output_type": "stream",
          "name": "stdout",
          "text": [
            "9 6\n"
          ]
        }
      ]
    },
    {
      "cell_type": "markdown",
      "source": [
        "22.)\tCalculate net sales where net sales = gross sales – 10% discount of gross sales."
      ],
      "metadata": {
        "id": "W2l1FCMfuPt5"
      }
    },
    {
      "cell_type": "code",
      "source": [
        "grosalary = 89000\n",
        "netsalery = grosalary - (grosalary*10)/100\n",
        "print(netsalery)\n",
        "\n"
      ],
      "metadata": {
        "id": "r4eq32qr4vxE",
        "colab": {
          "base_uri": "https://localhost:8080/"
        },
        "outputId": "8960d809-eb4b-4c02-c93a-6d1fae91dba1"
      },
      "execution_count": null,
      "outputs": [
        {
          "output_type": "stream",
          "name": "stdout",
          "text": [
            "80100.0\n"
          ]
        }
      ]
    },
    {
      "cell_type": "markdown",
      "source": [
        "21.)\tCalculate net salary\n",
        "where net salary = gross salary + allowance – deduction.\n",
        "Allowances are 10% while deductions are 3% of gross salary.\n"
      ],
      "metadata": {
        "id": "G74to8g0uUQd"
      }
    },
    {
      "cell_type": "code",
      "source": [
        "grossalary = 9000\n",
        "allow = (grossalary*10)/100\n",
        "deduc = (grossalary*3)/100\n",
        "netsalary = grossalary + allow -deduc\n",
        "print(netsalary)"
      ],
      "metadata": {
        "colab": {
          "base_uri": "https://localhost:8080/"
        },
        "id": "TlD6dk8YBvhb",
        "outputId": "60693523-c9cc-4c75-aa10-f99c8d1a6e3d"
      },
      "execution_count": null,
      "outputs": [
        {
          "output_type": "stream",
          "name": "stdout",
          "text": [
            "9630.0\n"
          ]
        }
      ]
    },
    {
      "cell_type": "markdown",
      "source": [
        "Lab-2 If-else conditionals\n",
        "1.)Print largest and smallest values out of two."
      ],
      "metadata": {
        "id": "UhkMg8U9v1Kg"
      }
    },
    {
      "cell_type": "markdown",
      "source": [],
      "metadata": {
        "id": "hBDXjCDlv_pc"
      }
    },
    {
      "cell_type": "code",
      "source": [
        "num1= 23\n",
        "num2 = 45\n",
        "if (num1>num2):\n",
        "  print(\"Num1 is largest values\")\n",
        "else:\n",
        "  print(\"num1 is smallest\")\n",
        "\n",
        "if(num2>num1):\n",
        "  print(\"num2 is largest values\")\n",
        "else:\n",
        "  print(\"num2 is smallest\")\n"
      ],
      "metadata": {
        "colab": {
          "base_uri": "https://localhost:8080/"
        },
        "id": "jjRt6jM_v980",
        "outputId": "87cfa240-eb6b-4e8d-d7a2-a542d375c661"
      },
      "execution_count": null,
      "outputs": [
        {
          "output_type": "stream",
          "name": "stdout",
          "text": [
            "num1 is smallest\n",
            "num2 is largest values\n"
          ]
        }
      ]
    },
    {
      "cell_type": "markdown",
      "source": [
        "2.)\tPrint largest and smallest values out of three."
      ],
      "metadata": {
        "id": "ySlvumi5wrAQ"
      }
    },
    {
      "cell_type": "code",
      "source": [
        "num1 = 45\n",
        "num2 = 46\n",
        "num3 = 89\n",
        "if(num1>num2 and num1 >num3):\n",
        "  print(\"num1 is largest values\")\n",
        "else:\n",
        "  print(\"num1 is smallest\")\n",
        "if(num2>num3 and num2>num1):\n",
        "    print(\"num2 is largest values\")\n",
        "else:\n",
        "  print(\"num2 is smallest\")\n",
        "if(num3>num1 and num3>num2):\n",
        "  print(\"num3 is largest\")\n",
        "else:\n",
        "  print(\"num3 is smallest\")\n"
      ],
      "metadata": {
        "colab": {
          "base_uri": "https://localhost:8080/"
        },
        "id": "IJ045bopwv1D",
        "outputId": "a3d51d98-eaed-4f69-d0bf-82bf81e1442b"
      },
      "execution_count": null,
      "outputs": [
        {
          "output_type": "stream",
          "name": "stdout",
          "text": [
            "num1 is smallest\n",
            "num2 is smallest\n",
            "num3 is largest\n"
          ]
        }
      ]
    },
    {
      "cell_type": "code",
      "source": [],
      "metadata": {
        "id": "rAvNdPF1w9sp"
      },
      "execution_count": null,
      "outputs": []
    },
    {
      "cell_type": "markdown",
      "source": [
        "3.)\tCheck whether a given number is odd or even"
      ],
      "metadata": {
        "id": "_6lnnpX5zK8y"
      }
    },
    {
      "cell_type": "code",
      "source": [
        "num = 3\n",
        "if(num%2==0):\n",
        "  print(\"Even\")\n",
        "else:\n",
        "  print(\"odd\")"
      ],
      "metadata": {
        "colab": {
          "base_uri": "https://localhost:8080/"
        },
        "id": "vA4afOYAzR-L",
        "outputId": "5cd4489b-8aad-4124-ef2e-bbd9d692d41e"
      },
      "execution_count": null,
      "outputs": [
        {
          "output_type": "stream",
          "name": "stdout",
          "text": [
            "odd\n"
          ]
        }
      ]
    },
    {
      "cell_type": "markdown",
      "source": [
        "4.)\tCheck whether a given number is divisible by 10 or not."
      ],
      "metadata": {
        "id": "Z1asZ4jWYbrz"
      }
    },
    {
      "cell_type": "code",
      "source": [
        "num = 45\n",
        "if(num%10==0):\n",
        "  print(\"it is divisiable by 10\")\n",
        "\n",
        "else:\n",
        "  print(\"not it is not divisiable by 10\")"
      ],
      "metadata": {
        "colab": {
          "base_uri": "https://localhost:8080/"
        },
        "id": "rb68f_saYh4d",
        "outputId": "a798f2b3-5353-420c-fca8-de3a951e2dd8"
      },
      "execution_count": null,
      "outputs": [
        {
          "output_type": "stream",
          "name": "stdout",
          "text": [
            "not it is not divisiable by 10\n"
          ]
        }
      ]
    },
    {
      "cell_type": "markdown",
      "source": [
        "5.)\tAccept age of a person. If age is less than 18, print minor otherwise Major."
      ],
      "metadata": {
        "id": "R58ceyLeY41y"
      }
    },
    {
      "cell_type": "code",
      "source": [
        "age = int(input(\"Enter the age of person:\"))\n",
        "if(age<18):\n",
        "  print(\"minor\")\n",
        "\n",
        "else:\n",
        "  print(\"major\")"
      ],
      "metadata": {
        "colab": {
          "base_uri": "https://localhost:8080/"
        },
        "id": "8zUKnQe-Y4Wu",
        "outputId": "47568e27-69ba-4901-db15-e212fbfa238b"
      },
      "execution_count": null,
      "outputs": [
        {
          "output_type": "stream",
          "name": "stdout",
          "text": [
            "Enter the age of person:12\n",
            "minor\n"
          ]
        }
      ]
    },
    {
      "cell_type": "markdown",
      "source": [
        "6.)\tAccept a number from the user. And print number of digits in it."
      ],
      "metadata": {
        "id": "l-QJpczJZWi_"
      }
    },
    {
      "cell_type": "code",
      "source": [
        "num = input(\"Enter the numbers:\")\n",
        "print(len(num))"
      ],
      "metadata": {
        "colab": {
          "base_uri": "https://localhost:8080/"
        },
        "id": "nMyaQui6ZcaF",
        "outputId": "5d1ced37-f9aa-4c7a-b7e7-57a880fce691"
      },
      "execution_count": null,
      "outputs": [
        {
          "output_type": "stream",
          "name": "stdout",
          "text": [
            "Enter the numbers:1234\n",
            "4\n"
          ]
        }
      ]
    },
    {
      "cell_type": "markdown",
      "source": [
        "7.)\tAccept a year value from the user. Check whether it is a leap year or not."
      ],
      "metadata": {
        "id": "LdqstuazZpAl"
      }
    },
    {
      "cell_type": "code",
      "source": [
        "year = int(input(\"Enter the year:\"))\n",
        "if( year % 4 == 0 and ( year % 400 == 0 or year % 100 != 0 )):\n",
        "  print(\"it is a leap year\")\n",
        "else:\n",
        "  print(\"it is not leap year\")"
      ],
      "metadata": {
        "colab": {
          "base_uri": "https://localhost:8080/"
        },
        "id": "pwCtWlV3Zvs0",
        "outputId": "61b1e516-37fc-466f-8582-785e1cf565dc"
      },
      "execution_count": null,
      "outputs": [
        {
          "output_type": "stream",
          "name": "stdout",
          "text": [
            "Enter the year:2025\n",
            "it is not leap year\n"
          ]
        }
      ]
    },
    {
      "cell_type": "markdown",
      "source": [
        "8.)\tCheck whether a triangle is valid or not, when the three angles of the triangle are entered through the keyboard. A triangle is valid if te sum of all the three angles is equal to 180 degrees.\n",
        "\n"
      ],
      "metadata": {
        "id": "4NYj2bwqbvND"
      }
    },
    {
      "cell_type": "code",
      "source": [
        "side1 = int(input(\"Enter the 1st side:\"))\n",
        "side2 = int(input(\"Enter the 2nd side:\"))\n",
        "side3  = int(input(\"Enter the 3rd side:\"))\n",
        "if(side1 + side2 +side3 == 180):\n",
        "  print(\"triange is valid\")\n",
        "else:\n",
        "  print(\"triange is invalid\")\n",
        "\n",
        "\n",
        "\n"
      ],
      "metadata": {
        "colab": {
          "base_uri": "https://localhost:8080/"
        },
        "id": "9SSMSRkjb2_K",
        "outputId": "c2e790be-c1ae-4c6f-a2c0-8c8fcba8e163"
      },
      "execution_count": null,
      "outputs": [
        {
          "output_type": "stream",
          "name": "stdout",
          "text": [
            "Enter the 1st side:60\n",
            "Enter the 2nd side:60\n",
            "Enter the 3rd side:60\n",
            "triange is valid\n"
          ]
        }
      ]
    },
    {
      "cell_type": "markdown",
      "source": [
        "9.)\tPrint absolute value of a given number."
      ],
      "metadata": {
        "id": "FIOsDrtdcjME"
      }
    },
    {
      "cell_type": "code",
      "source": [
        "num  = -9\n",
        "print(abs(num))\n"
      ],
      "metadata": {
        "colab": {
          "base_uri": "https://localhost:8080/"
        },
        "id": "cSRlSL04ctYS",
        "outputId": "88f4157a-72c8-4b66-8cc7-ff3ac50481f0"
      },
      "execution_count": null,
      "outputs": [
        {
          "output_type": "stream",
          "name": "stdout",
          "text": [
            "9\n"
          ]
        }
      ]
    },
    {
      "cell_type": "markdown",
      "source": [
        "10.)\tGiven the length and breadth of a rectangle, write a program to find whether theare of the rectangle is greater than its perimeter."
      ],
      "metadata": {
        "id": "FCzqvknQdm0R"
      }
    },
    {
      "cell_type": "code",
      "source": [
        "len = 89\n",
        "breath = 8\n",
        "area = len * breath\n",
        "perimeter = 2*(len + breath)\n",
        "if(area > perimeter):\n",
        "  print('area is greater than perimeter')\n",
        "else:\n",
        "  print('area is smaller than perimeter')\n"
      ],
      "metadata": {
        "colab": {
          "base_uri": "https://localhost:8080/"
        },
        "id": "jcKfBKxfdsJ4",
        "outputId": "b707192e-99f8-42bf-8363-b9aafae0a2e6"
      },
      "execution_count": null,
      "outputs": [
        {
          "output_type": "stream",
          "name": "stdout",
          "text": [
            "area is greater than perimeter\n"
          ]
        }
      ]
    },
    {
      "cell_type": "markdown",
      "source": [
        "11.)\tGiven three points (x1,y1), (x2,y2) and (x3,y3), check if all the three points fall on one straight line"
      ],
      "metadata": {
        "id": "h4E4kfkKe01y"
      }
    },
    {
      "cell_type": "code",
      "source": [
        "x1 = 5\n",
        "x2 = 8\n",
        "x3 =9\n",
        "y1 =3\n",
        "y2 = 4\n",
        "y3 =7\n",
        "a = (x1*(y2-y3))+(x2*(y3-y1))+(x3*(y1-y2))\n",
        "if (a == 0):\n",
        "  print('all the points fall on one stright line')\n",
        "else:\n",
        "  print(\"all the points dont fall on one stright line\")\n",
        "\n"
      ],
      "metadata": {
        "colab": {
          "base_uri": "https://localhost:8080/"
        },
        "id": "JLC9xB7re6br",
        "outputId": "ce20ade0-0d58-4e84-82a0-b1adfc9bd9a1"
      },
      "execution_count": null,
      "outputs": [
        {
          "output_type": "stream",
          "name": "stdout",
          "text": [
            "all the points dont fall on one stright line\n"
          ]
        }
      ]
    },
    {
      "cell_type": "markdown",
      "source": [
        "12.)\tGiven the coordinates (x,y) of center of a circle and its radius, determine whether a point lies inside the circle, on the circle or outside the circle. (Hint: Use sqrt( ), pow( ) )"
      ],
      "metadata": {
        "id": "VsEOuzhcgapl"
      }
    },
    {
      "cell_type": "code",
      "source": [
        "import math\n",
        "\n",
        "\n",
        "circle_x = 0\n",
        "circle_y = 0\n",
        "radius = 5\n",
        "point_x = 3\n",
        "point_y = 4\n",
        "\n",
        "\n",
        "distance = math.sqrt(math.pow(point_x - circle_x, 2) + math.pow(point_y - circle_y, 2))\n",
        "\n",
        "\n",
        "if distance < radius:\n",
        "    print(f\"The point ({point_x}, {point_y}) is inside the circle.\")\n",
        "elif distance == radius:\n",
        "    print(f\"The point ({point_x}, {point_y}) is on the circle.\")\n",
        "else:\n",
        "    print(f\"The point ({point_x}, {point_y}) is outside the circle.\")\n"
      ],
      "metadata": {
        "colab": {
          "base_uri": "https://localhost:8080/"
        },
        "id": "syH8s71wgiW3",
        "outputId": "4c05fb67-5797-4c02-f7b4-32610be5e515"
      },
      "execution_count": null,
      "outputs": [
        {
          "output_type": "stream",
          "name": "stdout",
          "text": [
            "The point (3, 4) is on the circle.\n"
          ]
        }
      ]
    },
    {
      "cell_type": "markdown",
      "source": [
        "13.)\tConvert number 0 to 19 to its equivalent words. E.g. 0  zero, 19nineteen."
      ],
      "metadata": {
        "id": "kvFGuVfPhXwx"
      }
    },
    {
      "cell_type": "code",
      "source": [
        "\n",
        "number = 0\n",
        "\n",
        "number_words = [\n",
        "    \"zero\", \"one\", \"two\", \"three\", \"four\", \"five\", \"six\", \"seven\", \"eight\", \"nine\",\n",
        "    \"ten\", \"eleven\", \"twelve\", \"thirteen\", \"fourteen\", \"fifteen\", \"sixteen\",\n",
        "    \"seventeen\", \"eighteen\", \"nineteen\"\n",
        "]\n",
        "\n",
        "\n",
        "if 0 <= number <= 19:\n",
        "    print(f\"The number {number} is written as '{number_words[number]}'.\")\n",
        "else:\n",
        "    print(\"Number is out of range (0-19).\")\n"
      ],
      "metadata": {
        "colab": {
          "base_uri": "https://localhost:8080/"
        },
        "id": "7cNbEuNTheqG",
        "outputId": "97d06c10-c39a-4f83-f2c1-71021b5b9687"
      },
      "execution_count": null,
      "outputs": [
        {
          "output_type": "stream",
          "name": "stdout",
          "text": [
            "The number 0 is written as 'zero'.\n"
          ]
        }
      ]
    },
    {
      "cell_type": "markdown",
      "source": [
        "14.)\tAccept marks of three subjects. Print total and average along with whether a candidate has passed or fail. If student secures <= 39 marks in any subject, consider him as fail. Also assigned a subject wise grade based on the following table:\n",
        "**bold text**\n"
      ],
      "metadata": {
        "id": "yJo00hPgiFkI"
      }
    },
    {
      "cell_type": "code",
      "source": [
        "sub1 = int(input(\"Enter the maths mark:\"))\n",
        "sub2 = int(input(\"Enter the chemistry mark:\"))\n",
        "sub3 = int(input(\"Enter the physics mark:\"))\n",
        "sum = sub1+sub2+sub3 /3\n",
        "if(sub1 <= 39 or sub2 <=39 or sub3<=39):\n",
        "  print(\"Fail\")\n",
        "\n",
        "elif(sum>= 40 and sum <=44 ):\n",
        "  print(\"P\")\n",
        "\n",
        "elif(sum>= 45 and sum <=49 ):\n",
        "  print(\"C\")\n",
        "\n",
        "elif(sum>= 50 and sum <=54 ):\n",
        "  print(\"B\")\n",
        "\n",
        "elif(sum>= 55 and sum <=59 ):\n",
        "  print(\"B+\")\n",
        "\n",
        "elif(sum>= 60 and sum <= 69 ):\n",
        "  print(\"A\")\n",
        "\n",
        "elif(sum>= 70 and sum <= 79):\n",
        "  print(\"A+\")\n",
        "\n",
        "elif(sum>= 80 and sum <=100 ):\n",
        "  print(\"O\")\n",
        "\n",
        "else:\n",
        "  print(\"good\")\n"
      ],
      "metadata": {
        "colab": {
          "base_uri": "https://localhost:8080/"
        },
        "id": "vzjCSSNtiLXZ",
        "outputId": "62147279-cf23-467b-dc7a-7b3228b5d928"
      },
      "execution_count": null,
      "outputs": [
        {
          "output_type": "stream",
          "name": "stdout",
          "text": [
            "Enter the maths mark:98\n",
            "Enter the chemistry mark:78\n",
            "Enter the physics mark:65\n",
            "good\n"
          ]
        }
      ]
    },
    {
      "cell_type": "markdown",
      "source": [
        "Lab-3 loops structure in Python\n",
        "1.)print all alphabets in upper case and in lower case."
      ],
      "metadata": {
        "id": "awPOEoILYPg0"
      }
    },
    {
      "cell_type": "code",
      "source": [
        "\n",
        "for i in range(26):\n",
        "  print(chr(i+65))\n"
      ],
      "metadata": {
        "colab": {
          "base_uri": "https://localhost:8080/"
        },
        "id": "zSDptqmnYewV",
        "outputId": "6447f3b1-782e-4727-8a1b-71f579cfeb6b"
      },
      "execution_count": null,
      "outputs": [
        {
          "output_type": "stream",
          "name": "stdout",
          "text": [
            "A\n",
            "B\n",
            "C\n",
            "D\n",
            "E\n",
            "F\n",
            "G\n",
            "H\n",
            "I\n",
            "J\n",
            "K\n",
            "L\n",
            "M\n",
            "N\n",
            "O\n",
            "P\n",
            "Q\n",
            "R\n",
            "S\n",
            "T\n",
            "U\n",
            "V\n",
            "W\n",
            "X\n",
            "Y\n",
            "Z\n"
          ]
        }
      ]
    },
    {
      "cell_type": "code",
      "source": [],
      "metadata": {
        "id": "UisYtCMbbl09"
      },
      "execution_count": null,
      "outputs": []
    },
    {
      "cell_type": "markdown",
      "source": [
        "2.)Print a multiplication table of a given number."
      ],
      "metadata": {
        "id": "iUqsTlbrccjU"
      }
    },
    {
      "cell_type": "code",
      "source": [
        "num = 8\n",
        "for i in range(1,11):\n",
        "  print(num*i)"
      ],
      "metadata": {
        "colab": {
          "base_uri": "https://localhost:8080/"
        },
        "id": "HzaBr82Hcgrv",
        "outputId": "e6903086-e937-4c62-e10b-d27485dc9ad7"
      },
      "execution_count": null,
      "outputs": [
        {
          "output_type": "stream",
          "name": "stdout",
          "text": [
            "8\n",
            "16\n",
            "24\n",
            "32\n",
            "40\n",
            "48\n",
            "56\n",
            "64\n",
            "72\n",
            "80\n"
          ]
        }
      ]
    },
    {
      "cell_type": "markdown",
      "source": [
        "3.)Count no. of alphabets and no. of digits in any given string."
      ],
      "metadata": {
        "id": "n_J5e9xFc3vY"
      }
    },
    {
      "cell_type": "code",
      "source": [
        "input_string = input(\"enter the value:\")\n",
        "alphabets = 0\n",
        "digits =0\n",
        "for char in input_string:\n",
        "        if char.isalpha():\n",
        "            alphabets += 1\n",
        "        elif char.isdigit():\n",
        "            digits += 1\n",
        "\n",
        "print(alphabets,digits)\n"
      ],
      "metadata": {
        "colab": {
          "base_uri": "https://localhost:8080/"
        },
        "id": "ver9GDL1c8_H",
        "outputId": "f93b09b9-ac49-4441-ba32-7c384e8a16de"
      },
      "execution_count": null,
      "outputs": [
        {
          "output_type": "stream",
          "name": "stdout",
          "text": [
            "enter the amodh567\n",
            "5 3\n"
          ]
        }
      ]
    },
    {
      "cell_type": "markdown",
      "source": [
        "4.)Check whether a given number is prime, is perfect, is Armstrong, is palindrome, is automorphic."
      ],
      "metadata": {
        "id": "Y9xesph-hKL7"
      }
    },
    {
      "cell_type": "code",
      "source": [
        "inp_num = int(input('Enter the num:'))\n",
        "print('the entered num is',inp_num)\n",
        "if(inp_num == 1):\n",
        "    print(\"it is not a prime num.\")\n",
        "elif(inp_num%2 and inp_num%3 != 0):\n",
        "    print('it is a prime num')\n",
        "else:\n",
        "    print('it is not a prime no.')\n"
      ],
      "metadata": {
        "colab": {
          "base_uri": "https://localhost:8080/"
        },
        "id": "Oe062WGtiO_x",
        "outputId": "5db3cf4e-d359-4cf6-e5f4-386650077924"
      },
      "execution_count": null,
      "outputs": [
        {
          "output_type": "stream",
          "name": "stdout",
          "text": [
            "Enter the num:99\n",
            "the entered num is 99\n",
            "it is not a prime no.\n"
          ]
        }
      ]
    },
    {
      "cell_type": "markdown",
      "source": [
        "5.)Generate all Pythagorean Triplets with side length <= 30."
      ],
      "metadata": {
        "id": "fHS9MoLjnVuW"
      }
    },
    {
      "cell_type": "code",
      "source": [
        "side1 = int(input(\"Enter the first side:\"))\n",
        "side2 = int(input(\"Enter the second side:\"))\n",
        "side3 = int(input(\"Enter the third side:\"))\n",
        "if((side1**2)+(side2**2)==(side3**2) or (side3**2)+(side2**2)==(side1**2) or (side1**2)+(side3**2)==(side2**2)):\n",
        "  print(\"It is a triplets of pythogorean\")\n",
        "\n",
        "else:\n",
        "  print(\"Not\")\n",
        "\n"
      ],
      "metadata": {
        "id": "vnIfCA7MnfpB",
        "colab": {
          "base_uri": "https://localhost:8080/"
        },
        "outputId": "29486863-e4a6-4231-86dd-73600ccf1b45"
      },
      "execution_count": null,
      "outputs": [
        {
          "output_type": "stream",
          "name": "stdout",
          "text": [
            "Enter the first side:3\n",
            "Enter the second side:4\n",
            "Enter the third side:5\n",
            "It is a triplets of pythogorean\n"
          ]
        }
      ]
    },
    {
      "cell_type": "markdown",
      "source": [
        "6.)Print 24 hours of day with suitable suffixes like AM, PM, Noon and Midnight."
      ],
      "metadata": {
        "id": "o-hHT2PGR88F"
      }
    },
    {
      "cell_type": "code",
      "source": [
        "for hour in range(24):\n",
        "    if hour == 0:\n",
        "        print(\"12:00 Midnight\")\n",
        "    elif hour == 12:\n",
        "        print(\"12:00 Noon\")\n",
        "    elif hour < 12:\n",
        "        print(f\"{hour}:00 AM\")\n",
        "    else:\n",
        "        print(f\"{hour - 12}:00 PM\")\n",
        "\n"
      ],
      "metadata": {
        "colab": {
          "base_uri": "https://localhost:8080/"
        },
        "id": "a3cjo2oZSHrb",
        "outputId": "3f38e580-7d81-46dc-bdb5-66544f6cb77f"
      },
      "execution_count": null,
      "outputs": [
        {
          "output_type": "stream",
          "name": "stdout",
          "text": [
            "12:00 Midnight\n",
            "1:00 AM\n",
            "2:00 AM\n",
            "3:00 AM\n",
            "4:00 AM\n",
            "5:00 AM\n",
            "6:00 AM\n",
            "7:00 AM\n",
            "8:00 AM\n",
            "9:00 AM\n",
            "10:00 AM\n",
            "11:00 AM\n",
            "12:00 Noon\n",
            "1:00 PM\n",
            "2:00 PM\n",
            "3:00 PM\n",
            "4:00 PM\n",
            "5:00 PM\n",
            "6:00 PM\n",
            "7:00 PM\n",
            "8:00 PM\n",
            "9:00 PM\n",
            "10:00 PM\n",
            "11:00 PM\n"
          ]
        }
      ]
    },
    {
      "cell_type": "markdown",
      "source": [
        "7.)Print nCr and nPr."
      ],
      "metadata": {
        "id": "kqoM_bG9cLjg"
      }
    },
    {
      "cell_type": "code",
      "source": [
        "n = int(input(\"Enter value of n: \"))\n",
        "r = int(input(\"Enter value of r: \"))\n",
        "\n",
        "n_fact = 1\n",
        "for i in range(1, n + 1):\n",
        "    n_fact *= i\n",
        "\n",
        "r_fact = 1\n",
        "for i in range(1, r + 1):\n",
        "    r_fact *= i\n",
        "\n",
        "n_r_fact = 1\n",
        "for i in range(1, n - r + 1):\n",
        "    n_r_fact *= i\n",
        "\n",
        "nCr = n_fact // (r_fact * n_r_fact)\n",
        "\n",
        "nPr = n_fact // n_r_fact\n",
        "\n",
        "print(\"The nCr is\",nCr)\n",
        "print(\"The nPr is\",nPr)\n",
        "\n"
      ],
      "metadata": {
        "id": "wKnE98yGcOxD",
        "colab": {
          "base_uri": "https://localhost:8080/"
        },
        "outputId": "6f42e446-8bd3-4d26-96e2-98b591f5408f"
      },
      "execution_count": null,
      "outputs": [
        {
          "output_type": "stream",
          "name": "stdout",
          "text": [
            "Enter value of n: 7\n",
            "Enter value of r: 4\n",
            "The nCr is 35\n",
            "The nPr is 840\n"
          ]
        }
      ]
    },
    {
      "cell_type": "markdown",
      "source": [
        "8.)Print factorial of a given number"
      ],
      "metadata": {
        "id": "eqNCKZGRRUpA"
      }
    },
    {
      "cell_type": "code",
      "source": [
        "n = int(input(\"Enter the num:\"))\n",
        "fact = 1\n",
        "for i in range(1,n+1):\n",
        "  fact *= i\n",
        "\n",
        "print(\"The factorial of n is:\",fact)\n"
      ],
      "metadata": {
        "colab": {
          "base_uri": "https://localhost:8080/"
        },
        "id": "-ZpP-NXwRaB3",
        "outputId": "fe44a80f-d1d8-4e35-c553-2763dfd1ee29"
      },
      "execution_count": null,
      "outputs": [
        {
          "output_type": "stream",
          "name": "stdout",
          "text": [
            "Enter the num:5\n",
            "The factorial of n is: 120\n"
          ]
        }
      ]
    },
    {
      "cell_type": "markdown",
      "source": [
        "9.)Print N natural nos. in reverse."
      ],
      "metadata": {
        "id": "vGv8k0gBR8cN"
      }
    },
    {
      "cell_type": "code",
      "source": [
        "N = int(input(\"Enter the num:\"))\n",
        "for i in range(N,0,-1):\n",
        "  print(i)\n"
      ],
      "metadata": {
        "colab": {
          "base_uri": "https://localhost:8080/"
        },
        "id": "sFjDMjpZSE4U",
        "outputId": "071bdb9d-b7e1-44d2-ea44-24a75ced3401"
      },
      "execution_count": null,
      "outputs": [
        {
          "output_type": "stream",
          "name": "stdout",
          "text": [
            "Enter the num:5\n",
            "5\n",
            "4\n",
            "3\n",
            "2\n",
            "1\n"
          ]
        }
      ]
    },
    {
      "cell_type": "markdown",
      "source": [
        "10.)\tGenerate N numbers of Fibonacci series."
      ],
      "metadata": {
        "id": "gkulXc1HTTnm"
      }
    },
    {
      "cell_type": "code",
      "source": [
        "N = int(input(\"Enter the number : \"))\n",
        "\n",
        "a, b = 0, 1\n",
        "\n",
        "print(\"Fibonacci series:\")\n",
        "for i in range(N):\n",
        "    print(a, end=\" \")\n",
        "    a, b = b, a + b\n"
      ],
      "metadata": {
        "colab": {
          "base_uri": "https://localhost:8080/"
        },
        "id": "OE-OyJeSTZsz",
        "outputId": "0ad117c4-3184-4ef5-8e0e-591c6db1888a"
      },
      "execution_count": null,
      "outputs": [
        {
          "output_type": "stream",
          "name": "stdout",
          "text": [
            "Enter the number : 5\n",
            "Fibonacci series:\n",
            "0 1 1 2 3 "
          ]
        }
      ]
    },
    {
      "cell_type": "markdown",
      "source": [
        "11.)Calculate sin(x); x is a radian value. The formula is as under:"
      ],
      "metadata": {
        "id": "fmNGvo9EUZF2"
      }
    },
    {
      "cell_type": "code",
      "source": [],
      "metadata": {
        "id": "sFfCeFqlUpWb"
      },
      "execution_count": null,
      "outputs": []
    },
    {
      "cell_type": "markdown",
      "source": [
        "Lab-4(Strings)\n",
        "1.)Count how many vowels are there in a string. Accept the string from the user."
      ],
      "metadata": {
        "id": "a9szk0Iev-rD"
      }
    },
    {
      "cell_type": "code",
      "source": [
        "str = input(\"Enter the string:\")\n",
        "vowels = \"aeiouAEIOU\"\n",
        "count = 0\n",
        "for char in str:\n",
        "  if char in vowels:\n",
        "    count += 1\n",
        "\n",
        "print(\"The num of vowels in the string is :\",count)"
      ],
      "metadata": {
        "colab": {
          "base_uri": "https://localhost:8080/"
        },
        "id": "XWns2iT3wN5g",
        "outputId": "1688a855-55b6-44cc-b755-3cfb55d34789"
      },
      "execution_count": null,
      "outputs": [
        {
          "output_type": "stream",
          "name": "stdout",
          "text": [
            "Enter the string:amodh\n",
            "The num of vowels in the string is : 2\n"
          ]
        }
      ]
    },
    {
      "cell_type": "markdown",
      "source": [
        "2.)\tWrite your own functions (without using built-in functions) to convert all characters of a string into lower case/upper case/toggle case."
      ],
      "metadata": {
        "id": "vawQQAeUxOxH"
      }
    },
    {
      "cell_type": "code",
      "source": [
        "str = input(\"Enter the str to convert:\")\n",
        "lowercase_result = \"\"\n",
        "for char in str:\n",
        "  if 'A' <= char <= 'Z':\n",
        "\n",
        "    lowercase_result += chr(ord(char)+32)\n",
        "\n",
        "  else:\n",
        "    lowercase_result += char\n",
        "\n",
        "print(\"lowercase string:\",lowercase_result)\n"
      ],
      "metadata": {
        "colab": {
          "base_uri": "https://localhost:8080/"
        },
        "id": "kWjA7-9wxUOl",
        "outputId": "0d204261-3e84-49fd-cbb2-48f043b76159"
      },
      "execution_count": null,
      "outputs": [
        {
          "output_type": "stream",
          "name": "stdout",
          "text": [
            "Enter the str to convert:AMOH\n",
            "lowercase string: amoh\n"
          ]
        }
      ]
    },
    {
      "cell_type": "markdown",
      "source": [
        "3.)Accept two strings. Check whether one string is there in another string."
      ],
      "metadata": {
        "id": "8AT-DISOzSjf"
      }
    },
    {
      "cell_type": "code",
      "source": [
        "str1 = input(\"Enter the first str:\")\n",
        "str2 = input(\"Enter the second str:\")\n",
        "found = False\n",
        "for i in range(len(str1)-len(str2)+1):\n",
        "  if str[i:i+len(str2)] ==str2:\n",
        "    found = True\n",
        "  break\n",
        "\n",
        "if found:\n",
        "  print(str2,\"is present in\",str1)\n",
        "\n",
        "else:\n",
        "  print(\"Not present\")"
      ],
      "metadata": {
        "colab": {
          "base_uri": "https://localhost:8080/"
        },
        "id": "Js-HKhjazZLP",
        "outputId": "ea601706-64dd-416b-a709-b33c504f0178"
      },
      "execution_count": null,
      "outputs": [
        {
          "output_type": "stream",
          "name": "stdout",
          "text": [
            "Enter the first str:amodh ray yadav\n",
            "Enter the second str:amodh\n",
            "Not present\n"
          ]
        }
      ]
    },
    {
      "cell_type": "markdown",
      "source": [
        "4.)Write a function that removes one string from another string, if present. E.g. Onestring = “abcdef”, removestring = “cd”. The finalstring should contain “abef”."
      ],
      "metadata": {
        "id": "uHpEtGzB0LOa"
      }
    },
    {
      "cell_type": "code",
      "source": [
        "onestring =input(\"Enter the string:\")\n",
        "removestring =input(\"Enter the char to remove:\")\n",
        "finalstring = onestring.replace(removestring, \"\")\n",
        "print(finalstring)\n"
      ],
      "metadata": {
        "colab": {
          "base_uri": "https://localhost:8080/"
        },
        "id": "BHZhOUTA0RhI",
        "outputId": "98231d85-8660-4d74-e5b9-5e1f9d405752"
      },
      "execution_count": null,
      "outputs": [
        {
          "output_type": "stream",
          "name": "stdout",
          "text": [
            "Enter the string:amodhrayyadav\n",
            "Enter the char to remove:ray\n",
            "amodhyadav\n"
          ]
        }
      ]
    },
    {
      "cell_type": "markdown",
      "source": [],
      "metadata": {
        "id": "1zxNK9msxfYa"
      }
    },
    {
      "cell_type": "markdown",
      "source": [
        "Lab-5(List)\n",
        "1.)Create a list of 5 odd integers using random nos. Similarly create a list of 4 even integers using random nos. Replace the third element of odd integers with  a list of 4 even integers. Flattern, sort and print the list. Provide appropriate message at each stage."
      ],
      "metadata": {
        "id": "EOPjtmKdb6Bh"
      }
    },
    {
      "cell_type": "code",
      "source": [
        "import random\n",
        "random_list =[ random.randint(1,10) for _ in range(0,21)]\n",
        "print(random_list)\n",
        "\n",
        "num = int(input(\"Enter a num:\"))\n",
        "for i in range(len(random_list)):\n",
        "  if random_list[i] == num:\n",
        "    print(i)"
      ],
      "metadata": {
        "colab": {
          "base_uri": "https://localhost:8080/"
        },
        "id": "BCHhMWBgcXD3",
        "outputId": "9334d1fd-a880-4daf-a444-8b62830847bd"
      },
      "execution_count": null,
      "outputs": [
        {
          "output_type": "stream",
          "name": "stdout",
          "text": [
            "[8, 8, 5, 8, 4, 6, 5, 6, 10, 7, 3, 7, 10, 1, 8, 3, 9, 2, 6, 8, 8]\n",
            "Enter a num:8\n",
            "0\n",
            "1\n",
            "3\n",
            "14\n",
            "19\n",
            "20\n"
          ]
        }
      ]
    },
    {
      "cell_type": "markdown",
      "source": [],
      "metadata": {
        "id": "f7vXbDQxuSoR"
      }
    },
    {
      "cell_type": "markdown",
      "source": [
        "2.)Generate 20 random integers and store them in a list. Accept a number from the user and print position of all occurrences of that number in the list."
      ],
      "metadata": {
        "id": "j0OpD2j9ng6A"
      }
    },
    {
      "cell_type": "code",
      "source": [
        "import random\n",
        "\n",
        "random_list = [random.randint(1, 100) for _ in range(20)]\n",
        "print(\"Generated list:\", random_list)\n",
        "\n",
        "num = int(input(\"Enter a number to search for: \"))\n",
        "positions = [i for i, x in enumerate(random_list) if x == num]\n",
        "\n",
        "if positions:\n",
        "    print(\"Positions of\", num, \"in the list:\", positions)\n",
        "else:\n",
        "    print(num, \"not found in the list.\")\n"
      ],
      "metadata": {
        "colab": {
          "base_uri": "https://localhost:8080/"
        },
        "id": "2Te7q7jenmot",
        "outputId": "2d24f09b-7f30-4f4b-92b2-276aed457715"
      },
      "execution_count": null,
      "outputs": [
        {
          "output_type": "stream",
          "name": "stdout",
          "text": [
            "Generated list: [41, 65, 38, 6, 87, 33, 23, 55, 90, 50, 31, 60, 62, 95, 89, 63, 71, 20, 99, 17]\n",
            "Enter a number to search for: 89\n",
            "Positions of 89 in the list: [14]\n"
          ]
        }
      ]
    },
    {
      "cell_type": "markdown",
      "source": [
        "3.)Generate 50 random numbers in the range 1 and 30. Remove all duplicate values from the list."
      ],
      "metadata": {
        "id": "izAlnkR3n_Vn"
      }
    },
    {
      "cell_type": "code",
      "source": [
        "import random\n",
        "\n",
        "random_list = [random.randint(1, 30) for _ in range(50)]\n",
        "print(\"Original list:\", random_list)\n",
        "\n",
        "unique_list = list(set(random_list))\n",
        "print(\"List with duplicates removed:\", unique_list)\n"
      ],
      "metadata": {
        "colab": {
          "base_uri": "https://localhost:8080/"
        },
        "id": "afE4DAZSopgK",
        "outputId": "5f4e1ad6-a238-463a-ff65-f62d2996ac49"
      },
      "execution_count": null,
      "outputs": [
        {
          "output_type": "stream",
          "name": "stdout",
          "text": [
            "Original list: [6, 1, 22, 11, 25, 1, 25, 24, 11, 10, 12, 27, 17, 1, 23, 11, 25, 18, 1, 15, 18, 8, 22, 16, 28, 17, 26, 5, 22, 21, 1, 4, 25, 24, 27, 15, 30, 9, 25, 27, 22, 3, 11, 13, 1, 19, 15, 18, 18, 7]\n",
            "List with duplicates removed: [1, 3, 4, 5, 6, 7, 8, 9, 10, 11, 12, 13, 15, 16, 17, 18, 19, 21, 22, 23, 24, 25, 26, 27, 28, 30]\n"
          ]
        }
      ]
    },
    {
      "cell_type": "markdown",
      "source": [
        "4.)Generate 30 random numbers and put them in a list. Create two more lists – one containing only +ve numbers and another with –ve nos."
      ],
      "metadata": {
        "id": "fP9LMVIDoxyR"
      }
    },
    {
      "cell_type": "code",
      "source": [
        "import random\n",
        "\n",
        "\n",
        "random_numbers = [random.randint(-100, 100) for _ in range(30)]\n",
        "\n",
        "\n",
        "positive_numbers = [num for num in random_numbers if num > 0]\n",
        "negative_numbers = [num for num in random_numbers if num < 0]\n",
        "\n",
        "print(\"Original list:\", random_numbers)\n",
        "print(\"Positive numbers:\", positive_numbers)\n",
        "print(\"Negative numbers:\", negative_numbers)\n"
      ],
      "metadata": {
        "colab": {
          "base_uri": "https://localhost:8080/"
        },
        "id": "mxV0F4Neo3Yo",
        "outputId": "817bc68f-218b-4334-8651-935d6274f447"
      },
      "execution_count": null,
      "outputs": [
        {
          "output_type": "stream",
          "name": "stdout",
          "text": [
            "Original list: [86, 22, 78, 5, 100, -72, 11, 93, 89, -29, -11, -16, 35, -57, -69, 46, -95, 96, 91, -81, -75, -54, 88, -23, 7, -2, 25, -21, 85, 49]\n",
            "Positive numbers: [86, 22, 78, 5, 100, 11, 93, 89, 35, 46, 96, 91, 88, 7, 25, 85, 49]\n",
            "Negative numbers: [-72, -29, -11, -16, -57, -69, -95, -81, -75, -54, -23, -2, -21]\n"
          ]
        }
      ]
    },
    {
      "cell_type": "markdown",
      "source": [
        "5.)A list contains 5 strings. Convert all these strings to uppercase."
      ],
      "metadata": {
        "id": "H32eCFkWpCyS"
      }
    },
    {
      "cell_type": "code",
      "source": [
        "string_list = [\"hello\", \"world\", \"python\", \"programming\", \"list\"]\n",
        "uppercase_list = [string.upper() for string in string_list]\n",
        "uppercase_list\n"
      ],
      "metadata": {
        "colab": {
          "base_uri": "https://localhost:8080/"
        },
        "id": "dPYFtGb9pIdb",
        "outputId": "37c29502-e649-4b78-f91c-14e12cdcca23"
      },
      "execution_count": null,
      "outputs": [
        {
          "output_type": "execute_result",
          "data": {
            "text/plain": [
              "['HELLO', 'WORLD', 'PYTHON', 'PROGRAMMING', 'LIST']"
            ]
          },
          "metadata": {},
          "execution_count": 8
        }
      ]
    },
    {
      "cell_type": "markdown",
      "source": [
        "6.)Convert list of temperatures in Fahrenheit degrees to equivalent Celsius degrees."
      ],
      "metadata": {
        "id": "Kfq1HYpypX7E"
      }
    },
    {
      "cell_type": "code",
      "source": [
        "fahrenheit_list = [32, 68, 100, 212]\n",
        "celsius_list = [(f - 32) * 5/9 for f in fahrenheit_list]\n",
        "\n",
        "print(\"Fahrenheit:\", fahrenheit_list)\n",
        "print(\"Celsius:\", celsius_list)\n"
      ],
      "metadata": {
        "colab": {
          "base_uri": "https://localhost:8080/"
        },
        "id": "v08ZE2WBpaZ9",
        "outputId": "fced28a6-49e9-43c4-e04b-a19ece0ae415"
      },
      "execution_count": null,
      "outputs": [
        {
          "output_type": "stream",
          "name": "stdout",
          "text": [
            "Fahrenheit: [32, 68, 100, 212]\n",
            "Celsius: [0.0, 20.0, 37.77777777777778, 100.0]\n"
          ]
        }
      ]
    },
    {
      "cell_type": "markdown",
      "source": [
        "7.)Write a menu-driven program to implement the stack data structure"
      ],
      "metadata": {
        "id": "gFB4ZCz-quoZ"
      }
    },
    {
      "cell_type": "code",
      "source": [
        "stack = []\n",
        "\n",
        "while True:\n",
        "    print(\"\\nStack Menu:\")\n",
        "    print(\"1. Push\")\n",
        "    print(\"2. Pop\")\n",
        "    print(\"3. Peek\")\n",
        "    print(\"4. Display\")\n",
        "    print(\"5. Exit\")\n",
        "\n",
        "    choice = int(input(\"Enter your choice: \"))\n",
        "\n",
        "    if choice == 1:\n",
        "        item = input(\"Enter item to push: \")\n",
        "        stack.append(item)\n",
        "        print(f\"{item} pushed onto the stack.\")\n",
        "    elif choice == 2:\n",
        "        if stack:\n",
        "            print(f\"{stack.pop()} popped from the stack.\")\n",
        "        else:\n",
        "            print(\"Stack is empty. Nothing to pop.\")\n",
        "    elif choice == 3:\n",
        "        if stack:\n",
        "            print(f\"Top element is: {stack[-1]}\")\n",
        "        else:\n",
        "            print(\"Stack is empty.\")\n",
        "    elif choice == 4:\n",
        "        if stack:\n",
        "            print(\"Stack elements: \", stack)\n",
        "        else:\n",
        "            print(\"Stack is empty.\")\n",
        "    elif choice == 5:\n",
        "        print(\"Exiting program.\")\n",
        "        break\n",
        "    else:\n",
        "        print(\"Invalid choice! Please enter a valid option.\")\n"
      ],
      "metadata": {
        "colab": {
          "base_uri": "https://localhost:8080/"
        },
        "id": "BiYenTL2q2YU",
        "outputId": "52046a3e-7bbd-4dc5-c056-84fef5e63fc6"
      },
      "execution_count": null,
      "outputs": [
        {
          "output_type": "stream",
          "name": "stdout",
          "text": [
            "\n",
            "Stack Menu:\n",
            "1. Push\n",
            "2. Pop\n",
            "3. Peek\n",
            "4. Display\n",
            "5. Exit\n",
            "Enter your choice: 5\n",
            "Exiting program.\n"
          ]
        }
      ]
    },
    {
      "cell_type": "markdown",
      "source": [
        "8.)Write a menu-driven program to implement the Queue data structure"
      ],
      "metadata": {
        "id": "DNlY6lFSrXFM"
      }
    },
    {
      "cell_type": "code",
      "source": [
        "queue = []\n",
        "\n",
        "while True:\n",
        "    print(\"\\nQueue Menu:\")\n",
        "    print(\"1. Enqueue\")\n",
        "    print(\"2. Dequeue\")\n",
        "    print(\"3. Peek\")\n",
        "    print(\"4. Display\")\n",
        "    print(\"5. Exit\")\n",
        "\n",
        "    choice = int(input(\"Enter your choice: \"))\n",
        "\n",
        "    if choice == 1:\n",
        "        item = input(\"Enter item to enqueue: \")\n",
        "        queue.append(item)\n",
        "        print(f\"{item} enqueued into the queue.\")\n",
        "    elif choice == 2:\n",
        "        if queue:\n",
        "            print(f\"{queue.pop(0)} dequeued from the queue.\")\n",
        "        else:\n",
        "            print(\"Queue is empty. Nothing to dequeue.\")\n",
        "    elif choice == 3:\n",
        "        if queue:\n",
        "            print(f\"Front element is: {queue[0]}\")\n",
        "        else:\n",
        "            print(\"Queue is empty.\")\n",
        "    elif choice == 4:\n",
        "        if queue:\n",
        "            print(\"Queue elements: \", queue)\n",
        "        else:\n",
        "            print(\"Queue is empty.\")\n",
        "    elif choice == 5:\n",
        "        print(\"Exiting program.\")\n",
        "        break\n",
        "    else:\n",
        "        print(\"Invalid choice! Please enter a valid option.\")\n"
      ],
      "metadata": {
        "colab": {
          "base_uri": "https://localhost:8080/"
        },
        "id": "SESwGuqZrchb",
        "outputId": "c785422d-d7b2-4d86-bc1e-4d7ffa8ec17e"
      },
      "execution_count": null,
      "outputs": [
        {
          "output_type": "stream",
          "name": "stdout",
          "text": [
            "\n",
            "Queue Menu:\n",
            "1. Enqueue\n",
            "2. Dequeue\n",
            "3. Peek\n",
            "4. Display\n",
            "5. Exit\n",
            "Enter your choice: 5\n",
            "Exiting program.\n"
          ]
        }
      ]
    },
    {
      "cell_type": "markdown",
      "source": [
        "9.)Take two lists of numbers. Create third list of numbers for only those numbers from first list which are not there in 2nd list (use list comprehension).\n",
        "\n"
      ],
      "metadata": {
        "id": "fSpk6NgyrmqJ"
      }
    },
    {
      "cell_type": "code",
      "source": [
        "list1 = [1, 2, 3, 4, 5]\n",
        "list2 = [3, 5, 6, 7, 8]\n",
        "\n",
        "list3 = [x for x in list1 if x not in list2]\n",
        "list3\n"
      ],
      "metadata": {
        "colab": {
          "base_uri": "https://localhost:8080/"
        },
        "id": "rV-DoIZbrrk5",
        "outputId": "ad08e858-6997-4e34-a2c7-95b5a667dd92"
      },
      "execution_count": null,
      "outputs": [
        {
          "output_type": "execute_result",
          "data": {
            "text/plain": [
              "[1, 2, 4]"
            ]
          },
          "metadata": {},
          "execution_count": 14
        }
      ]
    },
    {
      "cell_type": "markdown",
      "source": [
        "Lab-6(Tuples)Q.no.1)A list contains names of boys and girls as its elements. Boys’ names are stored as tuples. Write a program to find out number of boys and girls in the list. (Hint: use isinstance(ele,tuple))"
      ],
      "metadata": {
        "id": "vPnyfQpAlo0R"
      }
    },
    {
      "cell_type": "code",
      "source": [
        "names = [(\"Sangam\",), \"Alice\", (\"Mike\",), \"Emma\", (\"David\",), \"Sneh\"]\n",
        "\n",
        "boys = 0\n",
        "girls = 0\n",
        "\n",
        "\n",
        "for name in names:\n",
        "    if isinstance(name, tuple):\n",
        "        boys += 1\n",
        "    else:\n",
        "        girls += 1\n",
        "\n",
        "print(\"Number of boys:\", boys)\n",
        "print(\"Number of girls:\", girls)"
      ],
      "metadata": {
        "colab": {
          "base_uri": "https://localhost:8080/"
        },
        "id": "12aD1K2FmBdD",
        "outputId": "d2b725d8-0641-48f2-cbcb-d79a7449e4ac"
      },
      "execution_count": null,
      "outputs": [
        {
          "output_type": "stream",
          "name": "stdout",
          "text": [
            "Number of boys: 3\n",
            "Number of girls: 3\n"
          ]
        }
      ]
    },
    {
      "cell_type": "markdown",
      "source": [
        "Q.no.2)A list contains tuples containing roll no., name and age of student. Write a python program to create three lists separately for roll no., name and age"
      ],
      "metadata": {
        "id": "Kg3_jqfMmt-p"
      }
    },
    {
      "cell_type": "code",
      "source": [
        "students = [\n",
        "    (101, \"Alice\", 20),\n",
        "    (102, \"Bob\", 21),\n",
        "    (103, \"Charlie\", 19),\n",
        "    (104, \"David\", 22)\n",
        "]\n",
        "\n",
        "roll_numbers = []\n",
        "names = []\n",
        "ages = []\n",
        "\n",
        "for student in students:\n",
        "    roll_numbers.append(student[0])\n",
        "    names.append(student[1])\n",
        "    ages.append(student[2])\n",
        "\n",
        "\n",
        "print(\"Roll Numbers:\", roll_numbers)\n",
        "print(\"Names:\", names)\n",
        "print(\"Ages:\", ages)"
      ],
      "metadata": {
        "colab": {
          "base_uri": "https://localhost:8080/"
        },
        "id": "DhC9E7_am0k4",
        "outputId": "4fd98b23-47b5-41b3-e525-0cd962811d15"
      },
      "execution_count": null,
      "outputs": [
        {
          "output_type": "stream",
          "name": "stdout",
          "text": [
            "Roll Numbers: [101, 102, 103, 104]\n",
            "Names: ['Alice', 'Bob', 'Charlie', 'David']\n",
            "Ages: [20, 21, 19, 22]\n"
          ]
        }
      ]
    },
    {
      "cell_type": "markdown",
      "source": [
        "Q.no.3)\tSuppose a date is represented as a tuple (d, m, y). Create two date tuples and find the number of days between the two dates."
      ],
      "metadata": {
        "id": "sgE1LVscnS8p"
      }
    },
    {
      "cell_type": "code",
      "source": [
        "from datetime import datetime\n",
        "\n",
        "date1 = (15, 10, 2023)\n",
        "date2 = (25, 10, 2023)\n",
        "\n",
        "\n",
        "dt1 = datetime(date1[2], date1[1], date1[0])\n",
        "dt2 = datetime(date2[2], date2[1], date2[0])\n",
        "\n",
        "\n",
        "delta = abs((dt2 - dt1).days)\n",
        "\n",
        "print(f\"Number of days between {date1} and {date2}: {delta}\")"
      ],
      "metadata": {
        "colab": {
          "base_uri": "https://localhost:8080/"
        },
        "id": "Sdgy6O7mnYWA",
        "outputId": "c68a18b6-1ee4-4e56-af41-e36982cf9edf"
      },
      "execution_count": null,
      "outputs": [
        {
          "output_type": "stream",
          "name": "stdout",
          "text": [
            "Number of days between (15, 10, 2023) and (25, 10, 2023): 10\n"
          ]
        }
      ]
    },
    {
      "cell_type": "markdown",
      "source": [
        "Q.no.4.)Create a list of tuples containing a food item and its price. Sort the tuples in descending order by price."
      ],
      "metadata": {
        "id": "QsEHk7TJpm0T"
      }
    },
    {
      "cell_type": "code",
      "source": [
        "food_items = [\n",
        "    (\"Pizza\", 12.99),\n",
        "    (\"Burger\", 8.99),\n",
        "    (\"Pasta\", 10.49),\n",
        "    (\"Salad\", 6.99),\n",
        "    (\"Ice Cream\", 4.99)\n",
        "]\n",
        "\n",
        "food_items.sort(key=lambda x: x[1], reverse=True)\n",
        "\n",
        "print(\"Food items sorted by price (descending order):\")\n",
        "for item, price in food_items:\n",
        "    print(f\"{item}: ${price:.2f}\")"
      ],
      "metadata": {
        "colab": {
          "base_uri": "https://localhost:8080/"
        },
        "id": "EH90zhOTqQ2K",
        "outputId": "3ccacf19-8129-44ff-aa6b-934ca7ecc3f4"
      },
      "execution_count": null,
      "outputs": [
        {
          "output_type": "stream",
          "name": "stdout",
          "text": [
            "Food items sorted by price (descending order):\n",
            "Pizza: $12.99\n",
            "Pasta: $10.49\n",
            "Burger: $8.99\n",
            "Salad: $6.99\n",
            "Ice Cream: $4.99\n"
          ]
        }
      ]
    },
    {
      "cell_type": "markdown",
      "source": [
        "Q.no.5.)Remove empty tuple(s) from the list of tuples."
      ],
      "metadata": {
        "id": "GiU8g2c7qYIW"
      }
    },
    {
      "cell_type": "code",
      "source": [
        "list_of_tuples = [(1, 2), (), (3, 4), (), (5, 6), ()]\n",
        "\n",
        "filtered_list = [t for t in list_of_tuples if t]\n",
        "\n",
        "\n",
        "print(\"List after removing empty tuples:\", filtered_list)"
      ],
      "metadata": {
        "colab": {
          "base_uri": "https://localhost:8080/"
        },
        "id": "n44BL0Uhqc-4",
        "outputId": "7d60ddc5-b6bf-4e31-fe5c-49718381c42b"
      },
      "execution_count": null,
      "outputs": [
        {
          "output_type": "stream",
          "name": "stdout",
          "text": [
            "List after removing empty tuples: [(1, 2), (3, 4), (5, 6)]\n"
          ]
        }
      ]
    },
    {
      "cell_type": "markdown",
      "source": [
        "Q.no.6.)Modify an element of a tuple."
      ],
      "metadata": {
        "id": "asRzERxtql1a"
      }
    },
    {
      "cell_type": "code",
      "source": [
        "my_tuple = (1, 2, 3, 4, 5)\n",
        "\n",
        "modified_tuple = my_tuple[:2] + (10,) + my_tuple[3:]\n",
        "\n",
        "print(\"Modified tuple:\", modified_tuple)"
      ],
      "metadata": {
        "colab": {
          "base_uri": "https://localhost:8080/"
        },
        "id": "RizFlJZdrGSo",
        "outputId": "1589962d-41c3-4e83-d772-fdf5947e3838"
      },
      "execution_count": null,
      "outputs": [
        {
          "output_type": "stream",
          "name": "stdout",
          "text": [
            "Modified tuple: (1, 2, 10, 4, 5)\n"
          ]
        }
      ]
    },
    {
      "cell_type": "markdown",
      "source": [
        "Q.no.7.)\tDelete an element of a tuple."
      ],
      "metadata": {
        "id": "C3t13A9xrUBP"
      }
    },
    {
      "cell_type": "code",
      "source": [
        "my_tuple = (1, 2, 3, 4, 5)\n",
        "\n",
        "value_to_delete = 3\n",
        "\n",
        "new_tuple = tuple(item for item in my_tuple if item != value_to_delete)\n",
        "\n",
        "print(\"Tuple after deletion:\", new_tuple)"
      ],
      "metadata": {
        "colab": {
          "base_uri": "https://localhost:8080/"
        },
        "id": "7S4Ejr5XrxPN",
        "outputId": "aac051c3-1f63-40a9-c059-1cafecf47a61"
      },
      "execution_count": null,
      "outputs": [
        {
          "output_type": "stream",
          "name": "stdout",
          "text": [
            "Tuple after deletion: (1, 2, 4, 5)\n"
          ]
        }
      ]
    },
    {
      "cell_type": "markdown",
      "source": [
        "Lab-7(Dictionary)Q.no.1)\tWrite a program to create three dictionaries and concatenate them to create fourth dictionary"
      ],
      "metadata": {
        "id": "0ECXRPL8lIel"
      }
    },
    {
      "cell_type": "code",
      "source": [
        "dict1 = {'Maths':67, 'Chemistry':87}\n",
        "dict2 = {'python':56,'bio':54}\n",
        "dict3 = {'OB':65,'english':56}\n",
        "dict4 = {**dict1,**dict2,**dict3}\n",
        "\n",
        "print(dict4)\n"
      ],
      "metadata": {
        "colab": {
          "base_uri": "https://localhost:8080/"
        },
        "id": "esmaTlmHlY8e",
        "outputId": "25688963-c716-40df-df65-cf1a49bfdf28"
      },
      "execution_count": null,
      "outputs": [
        {
          "output_type": "stream",
          "name": "stdout",
          "text": [
            "{'Maths': 67, 'Chemistry': 87, 'python': 56, 'bio': 54, 'OB': 65, 'english': 56}\n"
          ]
        }
      ]
    },
    {
      "cell_type": "markdown",
      "source": [
        "Q.no.2.) Write a program to check whether a dictionary is empty or not."
      ],
      "metadata": {
        "id": "9no3Mo5NzUtd"
      }
    },
    {
      "cell_type": "code",
      "source": [
        "d = {}\n",
        "if not d:\n",
        "  print(\"It is an empty\")\n",
        "\n",
        "else:\n",
        "  print('not')\n"
      ],
      "metadata": {
        "colab": {
          "base_uri": "https://localhost:8080/"
        },
        "id": "No2hEgCrzYjo",
        "outputId": "4ca4e1a5-90cd-4082-fe0e-2e9b62bae610"
      },
      "execution_count": null,
      "outputs": [
        {
          "output_type": "stream",
          "name": "stdout",
          "text": [
            "It is an empty\n"
          ]
        }
      ]
    },
    {
      "cell_type": "markdown",
      "source": [
        "Q.no.3.)Create a dictionary with dept no, employee roll no. and salary. Find out department wise min and maximum of salary."
      ],
      "metadata": {
        "id": "wTjWdTxWz7u5"
      }
    },
    {
      "cell_type": "code",
      "source": [
        "from collections import defaultdict\n",
        "employees = [\n",
        "    {\"dept_no\": 101, \"roll_no\": 1, \"salary\": 50000},\n",
        "    {\"dept_no\": 101, \"roll_no\": 2, \"salary\": 60000},\n",
        "    {\"dept_no\": 102, \"roll_no\": 3, \"salary\": 45000},\n",
        "    {\"dept_no\": 102, \"roll_no\": 4, \"salary\": 70000},\n",
        "    {\"dept_no\": 103, \"roll_no\": 5, \"salary\": 55000},\n",
        "    {\"dept_no\": 103, \"roll_no\": 6, \"salary\": 65000},\n",
        "]\n",
        "\n",
        "dept_salaries = defaultdict(list)\n",
        "\n",
        "for emp in employees:\n",
        "    dept_salaries[emp[\"dept_no\"]].append(emp[\"salary\"])\n",
        "\n",
        "dept_salary_stats = {\n",
        "    dept: {\"min_salary\": min(salaries), \"max_salary\": max(salaries)}\n",
        "    for dept, salaries in dept_salaries.items()\n",
        "}\n",
        "\n",
        "for dept, stats in dept_salary_stats.items():\n",
        "    print(f\"Department {dept}: Min Salary = {stats['min_salary']}, Max Salary = {stats['max_salary']}\")\n"
      ],
      "metadata": {
        "colab": {
          "base_uri": "https://localhost:8080/"
        },
        "id": "uZFcsGuG0CB2",
        "outputId": "1037e585-fd14-4150-f1e0-e81105142164"
      },
      "execution_count": null,
      "outputs": [
        {
          "output_type": "stream",
          "name": "stdout",
          "text": [
            "Department 101: Min Salary = 50000, Max Salary = 60000\n",
            "Department 102: Min Salary = 45000, Max Salary = 70000\n",
            "Department 103: Min Salary = 55000, Max Salary = 65000\n"
          ]
        }
      ]
    },
    {
      "cell_type": "markdown",
      "source": [
        "Q.no.4.)Write a program that reads a string from the keyboard and creates dictionary containing frequency of each character occurring in the string."
      ],
      "metadata": {
        "id": "FGAxKOyJ3qRd"
      }
    },
    {
      "cell_type": "code",
      "source": [
        "string = input(\"Enter a string: \")\n",
        "char_freq = {}\n",
        "\n",
        "for char in string:\n",
        "    if char in char_freq:\n",
        "        char_freq[char] += 1\n",
        "    else:\n",
        "        char_freq[char] = 1\n",
        "\n",
        "print(\"Character Frequency Dictionary:\", char_freq)\n"
      ],
      "metadata": {
        "colab": {
          "base_uri": "https://localhost:8080/"
        },
        "id": "dgeRRjZo3wyy",
        "outputId": "b25be4e9-9fc7-4bcf-a0c9-3e7ef92eaf0e"
      },
      "execution_count": null,
      "outputs": [
        {
          "output_type": "stream",
          "name": "stdout",
          "text": [
            "Enter a string: Amodh\n",
            "Character Frequency Dictionary: {'A': 1, 'm': 1, 'o': 1, 'd': 1, 'h': 1}\n"
          ]
        }
      ]
    },
    {
      "cell_type": "markdown",
      "source": [
        "Q.no.5.)\tCreate two dictionaries – one containing grocery items and their prices and another containing grocery items and quantity purchased. By using the values from these two dictionaries compute the total bill."
      ],
      "metadata": {
        "id": "aDqUMO_e4w3f"
      }
    },
    {
      "cell_type": "code",
      "source": [
        "grocery_prices = {\n",
        "    \"Rice\": 50,\n",
        "    \"Sugar\": 40,\n",
        "    \"Milk\": 30,\n",
        "    \"Eggs\": 6,\n",
        "    \"Bread\": 25\n",
        "}\n",
        "\n",
        "grocery_quantity = {\n",
        "    \"Rice\": 2,\n",
        "    \"Sugar\": 1,\n",
        "    \"Milk\": 3,\n",
        "    \"Eggs\": 12,\n",
        "    \"Bread\": 2\n",
        "}\n",
        "\n",
        "total_bill = sum(grocery_prices[item] * grocery_quantity[item] for item in grocery_prices if item in grocery_quantity)\n",
        "\n",
        "print(\"Item-wise Cost:\")\n",
        "for item in grocery_prices:\n",
        "    if item in grocery_quantity:\n",
        "        cost = grocery_prices[item] * grocery_quantity[item]\n",
        "        print(f\"{item}: {grocery_quantity[item]} × {grocery_prices[item]} = {cost}\")\n",
        "\n",
        "print(f\"\\nTotal Bill: ₹{total_bill}\")\n"
      ],
      "metadata": {
        "colab": {
          "base_uri": "https://localhost:8080/"
        },
        "id": "1mFtGZVG44x1",
        "outputId": "ae329d5b-8d68-40ec-c9c1-e61d7331bc2c"
      },
      "execution_count": null,
      "outputs": [
        {
          "output_type": "stream",
          "name": "stdout",
          "text": [
            "Item-wise Cost:\n",
            "Rice: 2 × 50 = 100\n",
            "Sugar: 1 × 40 = 40\n",
            "Milk: 3 × 30 = 90\n",
            "Eggs: 12 × 6 = 72\n",
            "Bread: 2 × 25 = 50\n",
            "\n",
            "Total Bill: ₹352\n"
          ]
        }
      ]
    },
    {
      "cell_type": "markdown",
      "source": [
        "lab-8(Set) Q.no.1.)Write a program that converts words present in a list into uppercase and stores them in a set."
      ],
      "metadata": {
        "id": "hb6NVGbTfhmS"
      }
    },
    {
      "cell_type": "code",
      "source": [
        "\n",
        "\n",
        "words = [\"apple\", \"banana\", \"orange\", \"grape\", \"kiwi\"]\n",
        "\n",
        "uppercase_set = {word.upper() for word in words}\n",
        "\n",
        "uppercase_set\n"
      ],
      "metadata": {
        "colab": {
          "base_uri": "https://localhost:8080/"
        },
        "id": "BKNTqThlfu7r",
        "outputId": "9b8ba6bf-7213-4183-935c-f80ae7be1152"
      },
      "execution_count": null,
      "outputs": [
        {
          "output_type": "execute_result",
          "data": {
            "text/plain": [
              "{'APPLE', 'BANANA', 'GRAPE', 'KIWI', 'ORANGE'}"
            ]
          },
          "metadata": {},
          "execution_count": 1
        }
      ]
    },
    {
      "cell_type": "markdown",
      "source": [
        "Q.no.2.)Write a program to create a set containing 10 random numbers in the range 15 to 45. Count how many of these numbers are less than 30. Delete all numbers that are greater than 35."
      ],
      "metadata": {
        "id": "1-yJEiY7f4ON"
      }
    },
    {
      "cell_type": "code",
      "source": [
        "\n",
        "import random\n",
        "\n",
        "random_set = set()\n",
        "while len(random_set) < 10:\n",
        "  random_set.add(random.randint(15, 45))\n",
        "\n",
        "print(\"Original set:\", random_set)\n",
        "\n",
        "count_less_than_30 = sum(1 for num in random_set if num < 30)\n",
        "print(\"Number of elements less than 30:\", count_less_than_30)\n",
        "\n",
        "numbers_to_remove = {num for num in random_set if num > 35}\n",
        "random_set -= numbers_to_remove\n",
        "\n",
        "print(\"Set after removing numbers greater than 35:\", random_set)\n"
      ],
      "metadata": {
        "colab": {
          "base_uri": "https://localhost:8080/"
        },
        "id": "8_GZceVrf-_q",
        "outputId": "d7911132-b66a-48f3-f056-0d41bc20ee15"
      },
      "execution_count": null,
      "outputs": [
        {
          "output_type": "stream",
          "name": "stdout",
          "text": [
            "Original set: {35, 36, 38, 40, 15, 17, 23, 25, 27, 31}\n",
            "Number of elements less than 30: 5\n",
            "Set after removing numbers greater than 35: {35, 15, 17, 23, 25, 27, 31}\n"
          ]
        }
      ]
    },
    {
      "cell_type": "markdown",
      "source": [
        "Q.no.3.)Create an empty set. Write a program that adds five new names to this set, modifies one existing name and deletes two names from it."
      ],
      "metadata": {
        "id": "uMzdQzbegMvZ"
      }
    },
    {
      "cell_type": "code",
      "source": [
        "\n",
        "my_set = set()\n",
        "\n",
        "my_set.add(\"Alice\")\n",
        "my_set.add(\"Bob\")\n",
        "my_set.add(\"Charlie\")\n",
        "my_set.add(\"David\")\n",
        "my_set.add(\"Eve\")\n",
        "\n",
        "print(\"Set after adding names:\", my_set)\n",
        "\n",
        "if \"Bob\" in my_set:\n",
        "  my_set.remove(\"Bob\")\n",
        "  my_set.add(\"Robert\")\n",
        "\n",
        "print(\"Set after modifying a name:\", my_set)\n",
        "\n",
        "my_set.discard(\"Charlie\")\n",
        "my_set.discard(\"David\")\n",
        "\n",
        "print(\"Set after deleting names:\", my_set)\n"
      ],
      "metadata": {
        "colab": {
          "base_uri": "https://localhost:8080/"
        },
        "id": "4jPlOdnPgSnY",
        "outputId": "8749a444-b48d-408c-85b2-a6fb2974eeca"
      },
      "execution_count": null,
      "outputs": [
        {
          "output_type": "stream",
          "name": "stdout",
          "text": [
            "Set after adding names: {'Charlie', 'Bob', 'Eve', 'Alice', 'David'}\n",
            "Set after modifying a name: {'Charlie', 'Robert', 'Eve', 'Alice', 'David'}\n",
            "Set after deleting names: {'Robert', 'Eve', 'Alice'}\n"
          ]
        }
      ]
    },
    {
      "cell_type": "markdown",
      "source": [
        "Q.no.4.)A set contains names which begin either with A or with B. Write a program to separate out the names into two sets, one containing names beginning with A and another with B."
      ],
      "metadata": {
        "id": "oTtgwJTHgcNw"
      }
    },
    {
      "cell_type": "code",
      "source": [
        "\n",
        "names = {\"Alice\", \"Bob\", \"Andrew\", \"Ben\", \"Alex\", \"Brian\"}\n",
        "\n",
        "names_starting_with_a = {name for name in names if name.startswith('A')}\n",
        "names_starting_with_b = {name for name in names if name.startswith('B')}\n",
        "\n",
        "print(\"Names starting with A:\", names_starting_with_a)\n",
        "print(\"Names starting with B:\", names_starting_with_b)\n"
      ],
      "metadata": {
        "colab": {
          "base_uri": "https://localhost:8080/"
        },
        "id": "qGxVenHBgh3V",
        "outputId": "a9a82ca4-92c8-4ecd-bf11-ef2d65288d4d"
      },
      "execution_count": null,
      "outputs": [
        {
          "output_type": "stream",
          "name": "stdout",
          "text": [
            "Names starting with A: {'Alex', 'Alice', 'Andrew'}\n",
            "Names starting with B: {'Brian', 'Bob', 'Ben'}\n"
          ]
        }
      ]
    },
    {
      "cell_type": "markdown",
      "source": [
        "lab-9(Functions) Q.no.1.)\tWrite a program that defines a function count_lower_upper() that accepts a string and calculates the number of uppercase and lowercase alphabets in it. It should return these values as a dictionary. Call this function for some sample string."
      ],
      "metadata": {
        "id": "-VKgnhEIhidR"
      }
    },
    {
      "cell_type": "code",
      "source": [
        "\n",
        "def count_lower_upper(input_string):\n",
        "\n",
        "  uppercase_count = 0\n",
        "  lowercase_count = 0\n",
        "\n",
        "  for char in input_string:\n",
        "    if 'A' <= char <= 'Z':\n",
        "      uppercase_count += 1\n",
        "    elif 'a' <= char <= 'z':\n",
        "      lowercase_count += 1\n",
        "\n",
        "  return {'uppercase': uppercase_count, 'lowercase': lowercase_count}\n",
        "\n",
        "sample_string = \"Hello World 123\"\n",
        "counts = count_lower_upper(sample_string)\n",
        "print(f\"In '{sample_string}':\")\n",
        "print(f\"Uppercase letters: {counts['uppercase']}\")\n",
        "print(f\"Lowercase letters: {counts['lowercase']}\")\n"
      ],
      "metadata": {
        "colab": {
          "base_uri": "https://localhost:8080/"
        },
        "id": "XdGnWKsZhtna",
        "outputId": "5f7388f2-3b40-446e-e30a-da5491d9f471"
      },
      "execution_count": null,
      "outputs": [
        {
          "output_type": "stream",
          "name": "stdout",
          "text": [
            "In 'Hello World 123':\n",
            "Uppercase letters: 2\n",
            "Lowercase letters: 8\n"
          ]
        }
      ]
    },
    {
      "cell_type": "markdown",
      "source": [
        "Q.no.2.)Write a program that defines a function compute() that calculates the value of n + nn + nnn + nnnn, where n is digit received by the function. test the function for digits 4 to 7."
      ],
      "metadata": {
        "id": "l2R6mro3h3nY"
      }
    },
    {
      "cell_type": "code",
      "source": [
        "\n",
        "def compute(n):\n",
        "\n",
        "  nn = int(str(n) * 2)\n",
        "  nnn = int(str(n) * 3)\n",
        "  nnnn = int(str(n) * 4)\n",
        "  return n + nn + nnn + nnnn\n",
        "\n",
        "for i in range(4, 8):\n",
        "  result = compute(i)\n",
        "  print(f\"For n = {i}, the result is: {result}\")\n"
      ],
      "metadata": {
        "colab": {
          "base_uri": "https://localhost:8080/"
        },
        "id": "RzUQTasUh9u6",
        "outputId": "bdf16e82-52fb-4c75-ee56-6afcda9f13b0"
      },
      "execution_count": null,
      "outputs": [
        {
          "output_type": "stream",
          "name": "stdout",
          "text": [
            "For n = 4, the result is: 4936\n",
            "For n = 5, the result is: 6170\n",
            "For n = 6, the result is: 7404\n",
            "For n = 7, the result is: 8638\n"
          ]
        }
      ]
    },
    {
      "cell_type": "markdown",
      "source": [
        "Q.no.3.)Write a program that defines a function create_array() to create and return a 3D array whose dimensions are passed to the function. Also initialize each element of this aray to a value passed to the function. e.g. create_array(3,4,5,n) where first three arguments are 3D array dimensions and 4th value is for initialing each value of the 3D array."
      ],
      "metadata": {
        "id": "jiYFStpCiI2-"
      }
    },
    {
      "cell_type": "code",
      "source": [
        "\n",
        "def create_array(x, y, z, n):\n",
        "  array_3d = [[[n for _ in range(z)] for _ in range(y)] for _ in range(x)]\n",
        "  return array_3d\n",
        "\n",
        "\n",
        "\n",
        "x_dim = 3\n",
        "y_dim = 4\n",
        "z_dim = 5\n",
        "initial_value = 0\n",
        "\n",
        "my_3d_array = create_array(x_dim, y_dim, z_dim, initial_value)\n",
        "my_3d_array\n"
      ],
      "metadata": {
        "colab": {
          "base_uri": "https://localhost:8080/"
        },
        "id": "NiuGGGSxiO01",
        "outputId": "bfd701ec-be5d-4f68-c3e1-1a31da87a355"
      },
      "execution_count": null,
      "outputs": [
        {
          "output_type": "execute_result",
          "data": {
            "text/plain": [
              "[[[0, 0, 0, 0, 0], [0, 0, 0, 0, 0], [0, 0, 0, 0, 0], [0, 0, 0, 0, 0]],\n",
              " [[0, 0, 0, 0, 0], [0, 0, 0, 0, 0], [0, 0, 0, 0, 0], [0, 0, 0, 0, 0]],\n",
              " [[0, 0, 0, 0, 0], [0, 0, 0, 0, 0], [0, 0, 0, 0, 0], [0, 0, 0, 0, 0]]]"
            ]
          },
          "metadata": {},
          "execution_count": 8
        }
      ]
    },
    {
      "cell_type": "markdown",
      "source": [
        "Q.no.4.)\tWrite a program that defines a function sum_avg() to accept marks of five subjects and calculates total and average. It should return  directly both values."
      ],
      "metadata": {
        "id": "owxcd31UiYOx"
      }
    },
    {
      "cell_type": "code",
      "source": [
        "\n",
        "def sum_avg(marks):\n",
        "\n",
        "  total = sum(marks)\n",
        "  average = total / len(marks)\n",
        "  return total, average\n",
        "\n",
        "marks = []\n",
        "for i in range(5):\n",
        "  mark = int(input(f\"Enter marks for subject {i+1}: \"))\n",
        "  marks.append(mark)\n",
        "\n",
        "total, average = sum_avg(marks)\n",
        "33446\n",
        "print(f\"Total marks: {total}\")\n",
        "print(f\"Average marks: {average}\")\n"
      ],
      "metadata": {
        "colab": {
          "base_uri": "https://localhost:8080/"
        },
        "id": "iq-LLSB9idoE",
        "outputId": "0227d5b2-7553-48e3-adac-0aa04e5a04b7"
      },
      "execution_count": null,
      "outputs": [
        {
          "output_type": "stream",
          "name": "stdout",
          "text": [
            "Enter marks for subject 1: 45\n",
            "Enter marks for subject 2: 5\n",
            "Enter marks for subject 3: 45\n",
            "Enter marks for subject 4: 45\n",
            "Enter marks for subject 5: 56\n",
            "Total marks: 196\n",
            "Average marks: 39.2\n"
          ]
        }
      ]
    },
    {
      "cell_type": "markdown",
      "source": [
        "Q.no.5.)Pangram is a sentence that uses every letter of the alphabet. Write a program to check whether a given string is pangram or not, through a user-defined function ispangram(). Test the function with “The quick brown fox jumps over the lazy dog” or “Crazy Fredrick bought many very exquisite opal jewels”. Hint: use set() to convert the string into a set of characters present in the string and use <= to check whether alphaset is a subset of the given string."
      ],
      "metadata": {
        "id": "fNv78XgpittV"
      }
    },
    {
      "cell_type": "code",
      "source": [
        "\n",
        "def ispangram(text):\n",
        "  \"\"\"Checks if a given string is a pangram.\"\"\"\n",
        "\n",
        "  alphaset = set('abcdefghijklmnopqrstuvwxyz')\n",
        "  text = text.lower()\n",
        "  return alphaset <= set(text)\n",
        "\n",
        "string1 = \"The quick brown fox jumps over the lazy dog\"\n",
        "string2 = \"Crazy Fredrick bought many very exquisite opal jewels\"\n",
        "\n",
        "if ispangram(string1):\n",
        "  print(f\"'{string1}' is a pangram.\")\n",
        "else:\n",
        "  print(f\"'{string1}' is not a pangram.\")\n",
        "\n",
        "if ispangram(string2):\n",
        "  print(f\"'{string2}' is a pangram.\")\n",
        "else:\n",
        "  print(f\"'{string2}' is not a pangram.\")\n"
      ],
      "metadata": {
        "colab": {
          "base_uri": "https://localhost:8080/"
        },
        "id": "3rrzpc2Ni0KC",
        "outputId": "8b5c742d-4d67-44bc-d6bf-27c46e5b6fb4"
      },
      "execution_count": null,
      "outputs": [
        {
          "output_type": "stream",
          "name": "stdout",
          "text": [
            "'The quick brown fox jumps over the lazy dog' is a pangram.\n",
            "'Crazy Fredrick bought many very exquisite opal jewels' is a pangram.\n"
          ]
        }
      ]
    },
    {
      "cell_type": "markdown",
      "source": [
        "Lab-10(File handeling)Q.no.1.)\tWrite a program to create a csv file that we can directly open in MS-Excel."
      ],
      "metadata": {
        "id": "fK6E_cnM9RPO"
      }
    },
    {
      "cell_type": "code",
      "source": [
        "import csv\n",
        "\n",
        "def create_csv_for_excel(filename, data):\n",
        "    try:\n",
        "        with open(filename, 'w', newline='', encoding='utf-8') as csvfile:\n",
        "            csv_writer = csv.writer(csvfile)\n",
        "            csv_writer.writerows(data)\n",
        "        print(f\"CSV file '{filename}' created successfully.\")\n",
        "    except Exception as e:\n",
        "        print(f\"An error occurred: {e}\")\n",
        "\n",
        "\n",
        "data_to_write = [\n",
        "    [\"Name\", \"Age\", \"City\"],\n",
        "    [\"Alice\", 30, \"New York\"],\n",
        "    [\"Bob\", 25, \"Los Angeles\"],\n",
        "    [\"Charlie\", 35, \"Chicago\"],\n",
        "]\n",
        "\n",
        "\n",
        "create_csv_for_excel(\"my_excel_file.csv\", data_to_write)"
      ],
      "metadata": {
        "colab": {
          "base_uri": "https://localhost:8080/"
        },
        "id": "xo_79zqE9jFq",
        "outputId": "9070db32-9c85-48b4-ca7d-4632c8567780"
      },
      "execution_count": null,
      "outputs": [
        {
          "output_type": "stream",
          "name": "stdout",
          "text": [
            "CSV file 'my_excel_file.csv' created successfully.\n"
          ]
        }
      ]
    },
    {
      "cell_type": "markdown",
      "source": [
        "Q.no.2.)\tRead the data stored in MS-Excel file and convert it into a dictionary. The record contains rollno, name of student, marks of three subjects. Also calculate total. Display the dictionary data on the monitor."
      ],
      "metadata": {
        "id": "BA5ACX5N-DOS"
      }
    },
    {
      "cell_type": "code",
      "source": [
        "import pandas as pd\n",
        "\n",
        "def excel_to_dict(filepath):\n",
        "\n",
        "    try:\n",
        "\n",
        "        df = pd.read_excel(filepath)\n",
        "\n",
        "        required_columns = [\"rollno\", \"name\", \"subject1\", \"subject2\", \"subject3\"]\n",
        "        if not all(col in df.columns for col in required_columns):\n",
        "            print(\"Error: Excel file must contain columns: rollno, name, subject1, subject2, subject3\")\n",
        "            return {}\n",
        "\n",
        "        data_dict = {}\n",
        "        for index, row in df.iterrows():\n",
        "            rollno = row[\"rollno\"]\n",
        "            name = row[\"name\"]\n",
        "            subject1 = row[\"subject1\"]\n",
        "            subject2 = row[\"subject2\"]\n",
        "            subject3 = row[\"subject3\"]\n",
        "\n",
        "            total = subject1 + subject2 + subject3\n",
        "\n",
        "            data_dict[rollno] = {\n",
        "                \"name\": name,\n",
        "                \"subject1\": subject1,\n",
        "                \"subject2\": subject2,\n",
        "                \"subject3\": subject3,\n",
        "                \"total\": total\n",
        "            }\n",
        "\n",
        "        return data_dict\n",
        "\n",
        "    except FileNotFoundError:\n",
        "        print(f\"Error: File not found at {filepath}\")\n",
        "        return {}\n",
        "    except Exception as e:\n",
        "        print(f\"An error occurred: {e}\")\n",
        "        return {}\n",
        "\n",
        "file_path = \"student_data.xlsx\"\n",
        "student_data = excel_to_dict(file_path)\n",
        "\n",
        "if student_data:\n",
        "    print(student_data)"
      ],
      "metadata": {
        "colab": {
          "base_uri": "https://localhost:8080/"
        },
        "id": "cdeP4sFY-IYG",
        "outputId": "06acd001-65ea-4768-dab1-1a7a14c94e9f"
      },
      "execution_count": null,
      "outputs": [
        {
          "output_type": "stream",
          "name": "stdout",
          "text": [
            "Error: File not found at student_data.xlsx\n"
          ]
        }
      ]
    },
    {
      "cell_type": "markdown",
      "source": [
        "Q.no.3.)Accept contact details from the user and create a vcard that we can directly store in our mobile."
      ],
      "metadata": {
        "id": "c6ouZLYG-dTv"
      }
    },
    {
      "cell_type": "code",
      "source": [
        "import vobject\n",
        "\n",
        "def create_vcard():\n",
        "\n",
        "\n",
        "    vcard = vobject.vCard()\n",
        "\n",
        "    vcard.add('fn').value = input(\"Enter full name: \")\n",
        "    vcard.add('n').value = vobject.vcard.Name(family=input(\"Enter last name: \"), given=input(\"Enter first name: \"))\n",
        "\n",
        "    while True:\n",
        "      phone_number = input(\"Enter phone number (or type 'done' to finish): \")\n",
        "      if phone_number.lower() == 'done':\n",
        "          break\n",
        "      vcard.add('tel').value = phone_number\n",
        "      vcard.tel.type_param = 'CELL'\n",
        "\n",
        "    while True:\n",
        "      email = input(\"Enter email address (or type 'done' to finish): \")\n",
        "      if email.lower() == 'done':\n",
        "          break\n",
        "      vcard.add('email').value = email\n",
        "\n",
        "    while True:\n",
        "      org = input(\"Enter organization name (or type 'done' to finish): \")\n",
        "      if org.lower() == 'done':\n",
        "          break\n",
        "      vcard.add('org').value = org\n",
        "\n",
        "\n",
        "    vcard.add('url').value = input(\"Enter website (optional): \")\n",
        "\n",
        "    return vcard.serialize()\n",
        "\n",
        "if __name__ == \"__main__\":\n",
        "    vcard_data = create_vcard()\n",
        "    print(vcard_data)\n",
        "    with open(\"contact.vcf\", \"w\") as f:\n",
        "        f.write(vcard_data)\n",
        "    print(\"vCard saved to contact.vcf\")"
      ],
      "metadata": {
        "id": "EC9Y2Ymi-je1"
      },
      "execution_count": null,
      "outputs": []
    },
    {
      "cell_type": "markdown",
      "source": [],
      "metadata": {
        "id": "eS5UNDy395O7"
      }
    },
    {
      "cell_type": "markdown",
      "source": [
        "Q.no.4.)\tCreate a specific subdirectory and copy one file from another subdirectory to this newly created subdirectory."
      ],
      "metadata": {
        "id": "nOsI1D9s-ykW"
      }
    },
    {
      "cell_type": "code",
      "source": [
        "import os\n",
        "import shutil\n",
        "\n",
        "def copy_file_to_new_subdir(source_subdir, source_file, dest_subdir):\n",
        "\n",
        "\n",
        "    source_path = os.path.join(source_subdir, source_file)\n",
        "    dest_path = os.path.join(dest_subdir, source_file)\n",
        "\n",
        "    try:\n",
        "        os.makedirs(dest_subdir, exist_ok=True)\n",
        "        shutil.copy2(source_path, dest_path)\n",
        "        return True\n",
        "    except FileNotFoundError:\n",
        "        print(f\"Error: Source file '{source_path}' or source subdirectory not found.\")\n",
        "        return False\n",
        "    except Exception as e:\n",
        "        print(f\"An error occurred: {e}\")\n",
        "        return False\n",
        "\n",
        "source_subdir = \"path/to/source/subdir\"\n",
        "source_file = \"file.txt\"\n",
        "dest_subdir = \"path/to/new/subdir\"\n",
        "\n",
        "if copy_file_to_new_subdir(source_subdir, source_file, dest_subdir):\n",
        "    print(f\"File '{source_file}' copied successfully to '{dest_subdir}'.\")"
      ],
      "metadata": {
        "colab": {
          "base_uri": "https://localhost:8080/"
        },
        "id": "D1pUyS-K-3cy",
        "outputId": "a78181e0-5acc-4321-c521-3294d356ed88"
      },
      "execution_count": null,
      "outputs": [
        {
          "output_type": "stream",
          "name": "stdout",
          "text": [
            "Error: Source file 'path/to/source/subdir/file.txt' or source subdirectory not found.\n"
          ]
        }
      ]
    },
    {
      "cell_type": "markdown",
      "source": [
        "Q.no.5.)\tWrite a program to copy contents of one file to another. While doing so, replace all lowercase characters into uppercase characters."
      ],
      "metadata": {
        "id": "1N8RFMix_BoQ"
      }
    },
    {
      "cell_type": "code",
      "source": [
        "def copy_and_uppercase(source_file, destination_file):\n",
        "\n",
        "    try:\n",
        "        with open(source_file, 'r') as infile, open(destination_file, 'w') as outfile:\n",
        "            for line in infile:\n",
        "                outfile.write(line.upper())\n",
        "    except FileNotFoundError:\n",
        "        print(f\"Error: Source file '{source_file}' not found.\")\n",
        "    except Exception as e:\n",
        "        print(f\"An error occurred: {e}\")\n",
        "\n",
        "source_file_path = 'source.txt'\n",
        "destination_file_path = 'destination.txt'\n",
        "copy_and_uppercase(source_file_path, destination_file_path)"
      ],
      "metadata": {
        "colab": {
          "base_uri": "https://localhost:8080/"
        },
        "id": "PVLiq5ed_GrE",
        "outputId": "38240cd0-6cf3-41b3-8b8d-4da5e3745ced"
      },
      "execution_count": null,
      "outputs": [
        {
          "output_type": "stream",
          "name": "stdout",
          "text": [
            "Error: Source file 'source.txt' not found.\n"
          ]
        }
      ]
    },
    {
      "cell_type": "markdown",
      "source": [
        "Q.no.6.)Write a program that merges lines alternatively from two files and writes the results to new file. If one file has less number of lines than the other,  the remaining lines from the larger file should be simply copied into the target file."
      ],
      "metadata": {
        "id": "E7Pgj3j4_Pte"
      }
    },
    {
      "cell_type": "code",
      "source": [
        "def merge_files_alternatively(file1_path, file2_path, output_file_path):\n",
        "    try:\n",
        "        with open(file1_path, 'r') as file1, open(file2_path, 'r') as file2, open(output_file_path, 'w') as outfile:\n",
        "            lines1 = file1.readlines()\n",
        "            lines2 = file2.readlines()\n",
        "\n",
        "            min_len = min(len(lines1), len(lines2))\n",
        "\n",
        "            for i in range(min_len):\n",
        "                outfile.write(lines1[i])\n",
        "                outfile.write(lines2[i])\n",
        "\n",
        "            remaining_lines = lines1[min_len:] if len(lines1) > len(lines2) else lines2[min_len:]\n",
        "            outfile.writelines(remaining_lines)\n",
        "\n",
        "    except FileNotFoundError:\n",
        "        print(f\"Error: One or both input files not found.\")\n",
        "    except Exception as e:\n",
        "        print(f\"An error occurred: {e}\")\n",
        "\n",
        "# Example usage\n",
        "merge_files_alternatively(\"file1.txt\", \"file2.txt\", \"merged_file.txt\")"
      ],
      "metadata": {
        "colab": {
          "base_uri": "https://localhost:8080/"
        },
        "id": "Psa1GVfx_V-1",
        "outputId": "ae755fd4-a223-478f-82fd-056fe66ce068"
      },
      "execution_count": null,
      "outputs": [
        {
          "output_type": "stream",
          "name": "stdout",
          "text": [
            "Error: One or both input files not found.\n"
          ]
        }
      ]
    },
    {
      "cell_type": "markdown",
      "source": [
        "Q.no.7.)If an Employee object contains following details:\n",
        "empcode, empname, Date of Joining, Salary\n",
        "Write a program to serialize and deserialize this data.\n"
      ],
      "metadata": {
        "id": "4GPPG9zE_bW8"
      }
    },
    {
      "cell_type": "code",
      "source": [
        "import pickle\n",
        "\n",
        "class Employee:\n",
        "    def __init__(self, empcode, empname, date_of_joining, salary):\n",
        "        self.empcode = empcode\n",
        "        self.empname = empname\n",
        "        self.date_of_joining = date_of_joining\n",
        "        self.salary = salary\n",
        "\n",
        "# Example Employee object\n",
        "emp = Employee(\"E001\", \"John Doe\", \"2024-01-15\", 50000)\n",
        "\n",
        "# Serialization\n",
        "try:\n",
        "    with open(\"employee.pickle\", \"wb\") as file:\n",
        "        pickle.dump(emp, file)\n",
        "    print(\"Employee data serialized successfully!\")\n",
        "except Exception as e:\n",
        "    print(f\"Error during serialization: {e}\")\n",
        "\n",
        "# Deserialization\n",
        "try:\n",
        "    with open(\"employee.pickle\", \"rb\") as file:\n",
        "        loaded_emp = pickle.load(file)\n",
        "\n",
        "    print(\"Employee data deserialized successfully!\")\n",
        "    print(f\"Employee Code: {loaded_emp.empcode}\")\n",
        "    print(f\"Employee Name: {loaded_emp.empname}\")\n",
        "    print(f\"Date of Joining: {loaded_emp.date_of_joining}\")\n",
        "    print(f\"Salary: {loaded_emp.salary}\")\n",
        "except Exception as e:\n",
        "    print(f\"Error during deserialization: {e}\")\n"
      ],
      "metadata": {
        "colab": {
          "base_uri": "https://localhost:8080/"
        },
        "id": "loICxfJt_hHF",
        "outputId": "166057c6-034e-4fca-9bb4-c51f6f7ac33a"
      },
      "execution_count": null,
      "outputs": [
        {
          "output_type": "stream",
          "name": "stdout",
          "text": [
            "Employee data serialized successfully!\n",
            "Employee data deserialized successfully!\n",
            "Employee Code: E001\n",
            "Employee Name: John Doe\n",
            "Date of Joining: 2024-01-15\n",
            "Salary: 50000\n"
          ]
        }
      ]
    },
    {
      "cell_type": "markdown",
      "source": [
        "Q.no.8.)Given a text file, write a program to create another text file deleting the words ‘a’, ‘the’, ‘an’ and replacing each one of them with a blank space."
      ],
      "metadata": {
        "id": "O8gybbf7_o_W"
      }
    },
    {
      "cell_type": "code",
      "source": [
        "def process_text_file(input_file, output_file):\n",
        "\n",
        "\n",
        "    try:\n",
        "        with open(input_file, 'r') as infile, open(output_file, 'w') as outfile:\n",
        "            for line in infile:\n",
        "                words = line.split()\n",
        "                new_line = []\n",
        "\n",
        "                for word in words:\n",
        "                    if word.lower() in ('a', 'the', 'an'):\n",
        "                        new_line.append(\" \")\n",
        "                    else:\n",
        "                        new_line.append(word)\n",
        "\n",
        "                outfile.write(\" \".join(new_line) + '\\n')\n",
        "    except FileNotFoundError:\n",
        "        print(f\"Error: Input file '{input_file}' not found.\")\n",
        "    except Exception as e:\n",
        "        print(f\"An error occurred: {e}\")\n",
        "\n",
        "# Example usage\n",
        "input_filename = \"input.txt\"  # Replace with the actual input file name\n",
        "output_filename = \"output.txt\" # Replace with desired output file name\n",
        "\n",
        "process_text_file(input_filename, output_filename)"
      ],
      "metadata": {
        "colab": {
          "base_uri": "https://localhost:8080/"
        },
        "id": "K8p4jxve_tow",
        "outputId": "0e00d465-7cb6-4f94-e1ee-a435c23e12e1"
      },
      "execution_count": null,
      "outputs": [
        {
          "output_type": "stream",
          "name": "stdout",
          "text": [
            "Error: Input file 'input.txt' not found.\n"
          ]
        }
      ]
    },
    {
      "cell_type": "markdown",
      "source": [
        "Lab-11(Exception Handling)Q.no.1.)Write a program that receives an integer an input. If a string is entered instead of an integer, then report an error and give another chance to user to enter an integer. Continue this process till correct input is supplied.\n",
        "\n",
        "\n"
      ],
      "metadata": {
        "id": "cBHiHUeZAEAW"
      }
    },
    {
      "cell_type": "code",
      "source": [
        "while True:\n",
        "    try:\n",
        "        user_input = input(\"Please enter an integer: \")\n",
        "        integer_value = int(user_input)\n",
        "        print(\"You entered:\", integer_value)\n",
        "        break\n",
        "    except ValueError:\n",
        "        print(\"Invalid input. Please enter an integer.\")\n"
      ],
      "metadata": {
        "colab": {
          "base_uri": "https://localhost:8080/"
        },
        "id": "q2bzticUAYY3",
        "outputId": "547f2366-9b3f-45bc-c149-e71f80665371"
      },
      "execution_count": null,
      "outputs": [
        {
          "output_type": "stream",
          "name": "stdout",
          "text": [
            "Please enter an integer: 78\n",
            "You entered: 78\n"
          ]
        }
      ]
    },
    {
      "cell_type": "markdown",
      "source": [
        "Lab-12(Classes and Objects)Q.no.1.)Write a program to create a class that represents Complex numbers containing real and imaginary parts and then use it to perform complex number addition, subtraction, multiplication and division."
      ],
      "metadata": {
        "id": "31ozx0f0ArI7"
      }
    },
    {
      "cell_type": "code",
      "source": [
        "class Complex:\n",
        "    def __init__(self, real, imag):\n",
        "        self.real = real\n",
        "        self.imag = imag\n",
        "\n",
        "    def __add__(self, other):\n",
        "        return Complex(self.real + other.real, self.imag + other.imag)\n",
        "\n",
        "    def __sub__(self, other):\n",
        "        return Complex(self.real - other.real, self.imag - other.imag)\n",
        "\n",
        "    def __mul__(self, other):\n",
        "        return Complex(self.real * other.real - self.imag * other.imag,\n",
        "                       self.real * other.imag + self.imag * other.real)\n",
        "\n",
        "    def __truediv__(self, other):\n",
        "        denominator = other.real**2 + other.imag**2\n",
        "        return Complex((self.real * other.real + self.imag * other.imag) / denominator,\n",
        "                       (self.imag * other.real - self.real * other.imag) / denominator)\n",
        "\n",
        "    def __str__(self):\n",
        "        return f\"{self.real} + {self.imag}i\"\n",
        "\n",
        "# Example usage\n",
        "c1 = Complex(2, 3)\n",
        "c2 = Complex(1, 1)\n",
        "\n",
        "print(\"Addition:\", c1 + c2)\n",
        "print(\"Subtraction:\", c1 - c2)\n",
        "print(\"Multiplication:\", c1 * c2)\n",
        "print(\"Division:\", c1 / c2)"
      ],
      "metadata": {
        "colab": {
          "base_uri": "https://localhost:8080/"
        },
        "id": "95u3kBYVA6AQ",
        "outputId": "dc1243ad-9615-4326-efcd-d37cc255269b"
      },
      "execution_count": null,
      "outputs": [
        {
          "output_type": "stream",
          "name": "stdout",
          "text": [
            "Addition: 3 + 4i\n",
            "Subtraction: 1 + 2i\n",
            "Multiplication: -1 + 5i\n",
            "Division: 2.5 + 0.5i\n"
          ]
        }
      ]
    },
    {
      "cell_type": "markdown",
      "source": [
        "Q.no.2.)\tWrite a program that implements a Matrix class and performs addition, multiplication and transpose operations on 3x3 matrices."
      ],
      "metadata": {
        "id": "3hfHeGQWBBQn"
      }
    },
    {
      "cell_type": "code",
      "source": [
        "class Matrix:\n",
        "    def __init__(self, data):\n",
        "        self.data = data\n",
        "        self.rows = len(data)\n",
        "        self.cols = len(data[0])\n",
        "\n",
        "    def __add__(self, other):\n",
        "        if self.rows != other.rows or self.cols != other.cols:\n",
        "            raise ValueError(\"Matrices must have the same dimensions for addition.\")\n",
        "        result = [[self.data[i][j] + other.data[i][j] for j in range(self.cols)] for i in range(self.rows)]\n",
        "        return Matrix(result)\n",
        "\n",
        "    def __mul__(self, other):\n",
        "        if self.cols != other.rows:\n",
        "            raise ValueError(\"Number of columns in the first matrix must equal the number of rows in the second matrix.\")\n",
        "        result = [[0 for _ in range(other.cols)] for _ in range(self.rows)]\n",
        "        for i in range(self.rows):\n",
        "            for j in range(other.cols):\n",
        "                for k in range(self.cols):\n",
        "                    result[i][j] += self.data[i][k] * other.data[k][j]\n",
        "        return Matrix(result)\n",
        "\n",
        "    def transpose(self):\n",
        "        result = [[self.data[j][i] for j in range(self.rows)] for i in range(self.cols)]\n",
        "        return Matrix(result)\n",
        "\n",
        "    def __str__(self):\n",
        "        return \"\\n\".join(str(row) for row in self.data)\n",
        "\n",
        "# Example usage\n",
        "matrix1_data = [[1, 2, 3], [4, 5, 6], [7, 8, 9]]\n",
        "matrix2_data = [[9, 8, 7], [6, 5, 4], [3, 2, 1]]\n",
        "\n",
        "matrix1 = Matrix(matrix1_data)\n",
        "matrix2 = Matrix(matrix2_data)\n",
        "\n",
        "#Addition\n",
        "matrix_sum = matrix1 + matrix2\n",
        "print(\"Sum of matrices:\")\n",
        "print(matrix_sum)\n",
        "\n",
        "\n",
        "#Multiplication\n",
        "matrix_product = matrix1 * matrix2\n",
        "print(\"\\nProduct of matrices:\")\n",
        "print(matrix_product)\n",
        "\n",
        "#Transpose\n",
        "matrix_transpose = matrix1.transpose()\n",
        "print(\"\\nTranspose of matrix1:\")\n",
        "print(matrix_transpose)"
      ],
      "metadata": {
        "colab": {
          "base_uri": "https://localhost:8080/"
        },
        "id": "1CVTiAP1BGaI",
        "outputId": "9af2aaa3-c000-4873-8ecb-8594f6a85d00"
      },
      "execution_count": null,
      "outputs": [
        {
          "output_type": "stream",
          "name": "stdout",
          "text": [
            "Sum of matrices:\n",
            "[10, 10, 10]\n",
            "[10, 10, 10]\n",
            "[10, 10, 10]\n",
            "\n",
            "Product of matrices:\n",
            "[30, 24, 18]\n",
            "[84, 69, 54]\n",
            "[138, 114, 90]\n",
            "\n",
            "Transpose of matrix1:\n",
            "[1, 4, 7]\n",
            "[2, 5, 8]\n",
            "[3, 6, 9]\n"
          ]
        }
      ]
    },
    {
      "cell_type": "markdown",
      "source": [
        "Q.no.3.)Write a program to create a class that can calculate the surface area and volume of a solid. The class should also have a provision to accept the data relevant to the solid."
      ],
      "metadata": {
        "id": "UGAVFIuYBLtX"
      }
    },
    {
      "cell_type": "code",
      "source": [
        "import math\n",
        "\n",
        "class Solid:\n",
        "    def __init__(self, shape, **kwargs):\n",
        "        self.shape = shape.lower()\n",
        "        self.data = kwargs\n",
        "\n",
        "    def calculate_surface_area(self):\n",
        "        if self.shape == \"sphere\":\n",
        "            radius = self.data.get(\"radius\")\n",
        "            if radius is not None:\n",
        "                return 4 * math.pi * radius**2\n",
        "            else:\n",
        "              return \"Radius is required for a sphere\"\n",
        "\n",
        "        elif self.shape == \"cube\":\n",
        "            side = self.data.get(\"side\")\n",
        "            if side is not None:\n",
        "              return 6 * side**2\n",
        "            else:\n",
        "                return \"Side length is required for a cube\"\n",
        "        elif self.shape == \"cylinder\":\n",
        "            radius = self.data.get(\"radius\")\n",
        "            height = self.data.get(\"height\")\n",
        "            if radius is not None and height is not None:\n",
        "                return 2 * math.pi * radius * (radius + height)\n",
        "            else:\n",
        "                return \"Radius and Height are required for a cylinder\"\n",
        "\n",
        "        else:\n",
        "            return \"Shape not recognized or insufficient data provided\"\n",
        "\n",
        "\n",
        "    def calculate_volume(self):\n",
        "        if self.shape == \"sphere\":\n",
        "            radius = self.data.get(\"radius\")\n",
        "            if radius is not None:\n",
        "                return (4/3) * math.pi * radius**3\n",
        "            else:\n",
        "                return \"Radius is required for a sphere\"\n",
        "        elif self.shape == \"cube\":\n",
        "            side = self.data.get(\"side\")\n",
        "            if side is not None:\n",
        "              return side**3\n",
        "            else:\n",
        "                return \"Side length is required for a cube\"\n",
        "        elif self.shape == \"cylinder\":\n",
        "            radius = self.data.get(\"radius\")\n",
        "            height = self.data.get(\"height\")\n",
        "            if radius is not None and height is not None:\n",
        "                return math.pi * radius**2 * height\n",
        "            else:\n",
        "                return \"Radius and Height are required for a cylinder\"\n",
        "        else:\n",
        "            return \"Shape not recognized or insufficient data provided\""
      ],
      "metadata": {
        "id": "p93pYnBABQyO"
      },
      "execution_count": null,
      "outputs": []
    },
    {
      "cell_type": "markdown",
      "source": [
        "Q.no.4.)\tWrite a program to create a class that can calculate the perimeter/circumference and area of a regular shape. The class should also have a provision to accept the data relevant to the shape."
      ],
      "metadata": {
        "id": "z1fETWVBessT"
      }
    },
    {
      "cell_type": "code",
      "source": [
        "import math\n",
        "\n",
        "class RegularShape:\n",
        "    def __init__(self, shape_type, *args):\n",
        "        self.shape_type = shape_type\n",
        "        if shape_type == \"circle\":\n",
        "            self.radius = args[0]\n",
        "        elif shape_type == \"square\":\n",
        "            self.side = args[0]\n",
        "        elif shape_type == \"rectangle\":\n",
        "            self.length = args[0]\n",
        "            self.width = args[1]\n",
        "        elif shape_type == \"triangle\":\n",
        "          self.side1 = args[0]\n",
        "          self.side2 = args[1]\n",
        "          self.side3 = args[2]\n",
        "        else:\n",
        "            raise ValueError(\"Invalid shape type\")\n",
        "\n",
        "    def calculate_perimeter(self):\n",
        "        if self.shape_type == \"circle\":\n",
        "            return 2 * math.pi * self.radius\n",
        "        elif self.shape_type == \"square\":\n",
        "            return 4 * self.side\n",
        "        elif self.shape_type == \"rectangle\":\n",
        "            return 2 * (self.length + self.width)\n",
        "        elif self.shape_type == \"triangle\":\n",
        "            return self.side1 + self.side2 + self.side3\n",
        "        else:\n",
        "          return \"Invalid shape type\"\n",
        "\n",
        "    def calculate_area(self):\n",
        "        if self.shape_type == \"circle\":\n",
        "            return math.pi * self.radius**2\n",
        "        elif self.shape_type == \"square\":\n",
        "            return self.side**2\n",
        "        elif self.shape_type == \"rectangle\":\n",
        "            return self.length * self.width\n",
        "        elif self.shape_type == \"triangle\":\n",
        "            # Using Heron's formula\n",
        "            s = (self.side1 + self.side2+ self.side3) / 2\n",
        "            return math.sqrt(s * (s - self.side1) * (s - self.side2) * (s - self.side3))\n",
        "        else:\n",
        "          return \"Invalid shape type\"\n",
        "\n",
        "# Example usage\n",
        "circle = RegularShape(\"circle\", 5)\n",
        "print(f\"Circle Perimeter: {circle.calculate_perimeter()}\")\n",
        "print(f\"Circle Area: {circle.calculate_area()}\")\n",
        "\n",
        "square = RegularShape(\"square\", 4)\n",
        "print(f\"Square Perimeter: {square.calculate_perimeter()}\")\n",
        "print(f\"Square Area: {square.calculate_area()}\")\n",
        "\n",
        "rectangle = RegularShape(\"rectangle\", 6, 8)\n",
        "print(f\"Rectangle Perimeter: {rectangle.calculate_perimeter()}\")\n",
        "print(f\"Rectangle Area: {rectangle.calculate_area()}\")\n",
        "\n",
        "triangle = RegularShape(\"triangle\", 3,4,5)\n",
        "print(f\"Triangle Perimeter: {triangle.calculate_perimeter()}\")\n",
        "print(f\"Triangle Area: {triangle.calculate_area()}\")"
      ],
      "metadata": {
        "colab": {
          "base_uri": "https://localhost:8080/"
        },
        "id": "Tby7XkFxezaK",
        "outputId": "b96c8f03-7275-47ec-b2a1-f5a9fa6ef965"
      },
      "execution_count": 2,
      "outputs": [
        {
          "output_type": "stream",
          "name": "stdout",
          "text": [
            "Circle Perimeter: 31.41592653589793\n",
            "Circle Area: 78.53981633974483\n",
            "Square Perimeter: 16\n",
            "Square Area: 16\n",
            "Rectangle Perimeter: 28\n",
            "Rectangle Area: 48\n",
            "Triangle Perimeter: 12\n",
            "Triangle Area: 6.0\n"
          ]
        }
      ]
    },
    {
      "cell_type": "markdown",
      "source": [
        "Q.no.5.)Write a program that creates and uses a Time class to perform various time arithmetic operations."
      ],
      "metadata": {
        "id": "u3F9kC8te9kQ"
      }
    },
    {
      "cell_type": "code",
      "source": [
        "class Time:\n",
        "    def __init__(self, hours=0, minutes=0, seconds=0):\n",
        "        self.hours = hours\n",
        "        self.minutes = minutes\n",
        "        self.seconds = seconds\n",
        "\n",
        "    def __str__(self):\n",
        "        return \"{:02d}:{:02d}:{:02d}\".format(self.hours, self.minutes, self.seconds)\n",
        "\n",
        "    def __add__(self, other):\n",
        "        seconds = self.seconds + other.seconds\n",
        "        minutes = self.minutes + other.minutes + seconds // 60\n",
        "        hours = self.hours + other.hours + minutes // 60\n",
        "        return Time(hours % 24, minutes % 60, seconds % 60)\n",
        "\n",
        "    def __sub__(self, other):\n",
        "        seconds = self.seconds - other.seconds\n",
        "        minutes = self.minutes - other.minutes + seconds // 60\n",
        "        hours = self.hours - other.hours + minutes // 60\n",
        "        return Time(hours % 24, minutes % 60, seconds % 60)\n",
        "\n",
        "\n",
        "# Example usage\n",
        "time1 = Time(10, 30, 45)\n",
        "time2 = Time(2, 15, 20)\n",
        "\n",
        "\n",
        "print(\"Time 1:\", time1)  # Output: Time 1: 10:30:45\n",
        "print(\"Time 2:\", time2) # Output: Time 2: 02:15:20\n",
        "\n",
        "time3 = time1 + time2\n",
        "print(\"Sum:\", time3)  # Output: Sum: 12:46:05\n",
        "\n",
        "time4 = time1 - time2\n",
        "print(\"Difference:\", time4)  # Output: Difference: 08:15:25"
      ],
      "metadata": {
        "colab": {
          "base_uri": "https://localhost:8080/"
        },
        "id": "D0MQcSD7fDEH",
        "outputId": "1e9cac79-598f-4313-980a-53e26e43fa92"
      },
      "execution_count": 4,
      "outputs": [
        {
          "output_type": "stream",
          "name": "stdout",
          "text": [
            "Time 1: 10:30:45\n",
            "Time 2: 02:15:20\n",
            "Sum: 12:46:05\n",
            "Difference: 08:15:25\n"
          ]
        }
      ]
    },
    {
      "cell_type": "markdown",
      "source": [
        "Q.no.6.)Write a program to create a class Datethat has a list containing day, month and year attributes. Define an overloaded == operator to compare two Date objects."
      ],
      "metadata": {
        "id": "OEwp617cfLj8"
      }
    },
    {
      "cell_type": "code",
      "source": [
        "class Date:\n",
        "    def __init__(self, day, month, year):\n",
        "        self.date_list = [day, month, year]\n",
        "\n",
        "    def __eq__(self, other):\n",
        "        return self.date_list == other.date_list"
      ],
      "metadata": {
        "id": "X_F3fEo2fRII"
      },
      "execution_count": 6,
      "outputs": []
    },
    {
      "cell_type": "markdown",
      "source": [
        "Q.no.7.)Create a class Weather that has a list containing weather parameters. Define an overloaded in operator that checks whether an item is present in the list. (Hint: define the function __contains__( )in a class.)"
      ],
      "metadata": {
        "id": "kTCAwBi2fWNq"
      }
    },
    {
      "cell_type": "code",
      "source": [
        "class Weather:\n",
        "    def __init__(self, weather_parameters):\n",
        "        self.weather_parameters = weather_parameters\n",
        "\n",
        "    def __contains__(self, item):\n",
        "        return item in self.weather_parameters"
      ],
      "metadata": {
        "id": "Je9naIhhfbjf"
      },
      "execution_count": 9,
      "outputs": []
    },
    {
      "cell_type": "markdown",
      "source": [
        "Q.no.8.)\tImplement a Stringclass containing the following functions:\n",
        "a.\tOverloaded += operator function to perform string concatenation\n",
        "b.\tMethod toLower()to convert upper case letters to lower case.\n",
        "c.\tMethod toUpper()to convert lower case letters to upper case.\n"
      ],
      "metadata": {
        "id": "217en_fGfgvG"
      }
    },
    {
      "cell_type": "code",
      "source": [
        "class String:\n",
        "    def __init__(self, initial_string=\"\"):\n",
        "        self.string = initial_string\n",
        "\n",
        "    def __iadd__(self, other):\n",
        "        self.string += str(other)  # Convert other to string before concatenation\n",
        "        return self\n",
        "\n",
        "    def toLower(self):\n",
        "        self.string = self.string.lower()\n",
        "\n",
        "    def toUpper(self):\n",
        "        self.string = self.string.upper()\n",
        "c.\tMethod toUpper()to convert lower case letters to upper case.\n"
      ],
      "metadata": {
        "id": "-SwOTBrJf0qp"
      },
      "execution_count": null,
      "outputs": []
    }
  ]
}